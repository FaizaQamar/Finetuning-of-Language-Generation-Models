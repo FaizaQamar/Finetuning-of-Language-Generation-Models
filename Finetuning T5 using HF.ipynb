{
 "cells": [
  {
   "cell_type": "markdown",
   "metadata": {
    "id": "VWm2Nq2gB3Ne"
   },
   "source": [
    "https://huggingface.co/docs/transformers/tasks/language_modeling\n",
    "Link to follow the tutorial"
   ]
  },
  {
   "cell_type": "code",
   "execution_count": 1,
   "metadata": {
    "executionInfo": {
     "elapsed": 2655,
     "status": "ok",
     "timestamp": 1656410017580,
     "user": {
      "displayName": "Faiza Qamar",
      "userId": "01955960500406931452"
     },
     "user_tz": -300
    },
    "id": "07BvBPAafE4E"
   },
   "outputs": [],
   "source": [
    "import pandas as pd\n",
    "import numpy as np\n",
    "import gc\n",
    "from transformers import Adafactor\n",
    "import tqdm\n",
    "from tqdm.notebook import tqdm_notebook\n",
    "import torch\n",
    "import evaluate\n",
    "import wandb\n",
    "import math"
   ]
  },
  {
   "cell_type": "code",
   "execution_count": 2,
   "metadata": {},
   "outputs": [
    {
     "name": "stderr",
     "output_type": "stream",
     "text": [
      "\u001b[34m\u001b[1mwandb\u001b[0m: Currently logged in as: \u001b[33mfayz\u001b[0m. Use \u001b[1m`wandb login --relogin`\u001b[0m to force relogin\n"
     ]
    },
    {
     "data": {
      "application/vnd.jupyter.widget-view+json": {
       "model_id": "71d26c936bc94768aeaa204e5693b2a6",
       "version_major": 2,
       "version_minor": 0
      },
      "text/plain": [
       "VBox(children=(Label(value='Waiting for wandb.init()...\\r'), FloatProgress(value=0.03333603541056315, max=1.0)…"
      ]
     },
     "metadata": {},
     "output_type": "display_data"
    },
    {
     "data": {
      "text/html": [
       "wandb version 0.13.4 is available!  To upgrade, please run:\n",
       " $ pip install wandb --upgrade"
      ],
      "text/plain": [
       "<IPython.core.display.HTML object>"
      ]
     },
     "metadata": {},
     "output_type": "display_data"
    },
    {
     "data": {
      "text/html": [
       "Tracking run with wandb version 0.13.3"
      ],
      "text/plain": [
       "<IPython.core.display.HTML object>"
      ]
     },
     "metadata": {},
     "output_type": "display_data"
    },
    {
     "data": {
      "text/html": [
       "Run data is saved locally in <code>/home/beyond-data/Documents/Faiza/Notebooks for Finetuning/T5/wandb/run-20221015_120414-2z5rmxgt</code>"
      ],
      "text/plain": [
       "<IPython.core.display.HTML object>"
      ]
     },
     "metadata": {},
     "output_type": "display_data"
    },
    {
     "data": {
      "text/html": [
       "Resuming run <strong><a href=\"https://wandb.ai/fayz/T5-Custom-Tokenizer/runs/2z5rmxgt\" target=\"_blank\">apricot-flower-1</a></strong> to <a href=\"https://wandb.ai/fayz/T5-Custom-Tokenizer\" target=\"_blank\">Weights & Biases</a> (<a href=\"https://wandb.me/run\" target=\"_blank\">docs</a>)<br/>"
      ],
      "text/plain": [
       "<IPython.core.display.HTML object>"
      ]
     },
     "metadata": {},
     "output_type": "display_data"
    },
    {
     "data": {
      "text/html": [
       "<button onClick=\"this.nextSibling.style.display='block';this.style.display='none';\">Display W&B run</button><iframe src=\"https://wandb.ai/fayz/T5-Custom-Tokenizer/runs/2z5rmxgt?jupyter=true\" style=\"border:none;width:100%;height:420px;display:none;\"></iframe>"
      ],
      "text/plain": [
       "<wandb.sdk.wandb_run.Run at 0x7f736164bc10>"
      ]
     },
     "execution_count": 2,
     "metadata": {},
     "output_type": "execute_result"
    }
   ],
   "source": [
    "wandb.init(project=\"T5-Custom-Tokenizer\", resume=True)"
   ]
  },
  {
   "cell_type": "code",
   "execution_count": 3,
   "metadata": {},
   "outputs": [
    {
     "name": "stdout",
     "output_type": "stream",
     "text": [
      "Running on the GPU\n"
     ]
    }
   ],
   "source": [
    "if torch.cuda.is_available():\n",
    "   dev = torch.device(\"cuda:0\")\n",
    "   print(\"Running on the GPU\")\n",
    "else:\n",
    "   dev = torch.device(\"cpu\")\n",
    "   print(\"Running on the CPU\")"
   ]
  },
  {
   "cell_type": "code",
   "execution_count": 4,
   "metadata": {
    "executionInfo": {
     "elapsed": 9713,
     "status": "ok",
     "timestamp": 1656410035768,
     "user": {
      "displayName": "Faiza Qamar",
      "userId": "01955960500406931452"
     },
     "user_tz": -300
    },
    "id": "3-U3-MkwfHgU"
   },
   "outputs": [
    {
     "data": {
      "application/vnd.jupyter.widget-view+json": {
       "model_id": "0232a6463bc9420ca1baf035a6a59cd5",
       "version_major": 2,
       "version_minor": 0
      },
      "text/plain": [
       "  0%|          | 0/46753 [00:00<?, ?it/s]"
      ]
     },
     "metadata": {},
     "output_type": "display_data"
    },
    {
     "data": {
      "application/vnd.jupyter.widget-view+json": {
       "model_id": "5767d743f4f0489689f6739c18d3dc6b",
       "version_major": 2,
       "version_minor": 0
      },
      "text/plain": [
       "  0%|          | 0/46753 [00:00<?, ?it/s]"
      ]
     },
     "metadata": {},
     "output_type": "display_data"
    },
    {
     "data": {
      "application/vnd.jupyter.widget-view+json": {
       "model_id": "ff16d12ffab147d4b649735516ec15af",
       "version_major": 2,
       "version_minor": 0
      },
      "text/plain": [
       "  0%|          | 0/6676 [00:00<?, ?it/s]"
      ]
     },
     "metadata": {},
     "output_type": "display_data"
    },
    {
     "data": {
      "application/vnd.jupyter.widget-view+json": {
       "model_id": "157166f7e2394be48b485cd460dc3e45",
       "version_major": 2,
       "version_minor": 0
      },
      "text/plain": [
       "  0%|          | 0/6676 [00:00<?, ?it/s]"
      ]
     },
     "metadata": {},
     "output_type": "display_data"
    }
   ],
   "source": [
    "train = pd.read_json('/home/beyond-data/Documents/Faiza/Notebooks for Finetuning/Data/train.json')\n",
    "test = pd.read_json('/home/beyond-data/Documents/Faiza/Notebooks for Finetuning/Data/test.json')\n",
    "result_df = pd.read_csv('Custom_Tokenizer/results.csv')\n",
    "\n",
    "epoch = len(result_df['epoch'])+1\n",
    "\n",
    "train['input'] = train['Question'] + train['document']\n",
    "test['input'] = test['Question'] + test['document']\n",
    "del train['Question']\n",
    "del test['Question']\n",
    "del train['document']\n",
    "del test['document']\n",
    "#trsin\n",
    "for i in tqdm_notebook(range(len(train['input']))):\n",
    "  if len(train['input'][i]) > 512:\n",
    "    train['input'][i] = train['input'][i][:512]\n",
    "for i in tqdm_notebook(range(len(train['Answer']))):\n",
    "  if len(train['Answer'][i]) > 512:\n",
    "    train['Answer'][i] = train['Answer'][i][:512]\n",
    "#test\n",
    "for i in tqdm_notebook(range(len(test['input']))):\n",
    "  if len(test['input'][i]) > 512:\n",
    "    test['input'][i] = test['input'][i][:512]\n",
    "for i in tqdm_notebook(range(len(test['Answer']))):\n",
    "  if len(test['Answer'][i]) > 512:\n",
    "    test['Answer'][i] = test['Answer'][i][:512]"
   ]
  },
  {
   "cell_type": "code",
   "execution_count": 5,
   "metadata": {},
   "outputs": [
    {
     "data": {
      "text/html": [
       "<div>\n",
       "<style scoped>\n",
       "    .dataframe tbody tr th:only-of-type {\n",
       "        vertical-align: middle;\n",
       "    }\n",
       "\n",
       "    .dataframe tbody tr th {\n",
       "        vertical-align: top;\n",
       "    }\n",
       "\n",
       "    .dataframe thead th {\n",
       "        text-align: right;\n",
       "    }\n",
       "</style>\n",
       "<table border=\"1\" class=\"dataframe\">\n",
       "  <thead>\n",
       "    <tr style=\"text-align: right;\">\n",
       "      <th></th>\n",
       "      <th>epoch</th>\n",
       "      <th>training_loss</th>\n",
       "      <th>val_loss</th>\n",
       "      <th>ppl</th>\n",
       "    </tr>\n",
       "  </thead>\n",
       "  <tbody>\n",
       "  </tbody>\n",
       "</table>\n",
       "</div>"
      ],
      "text/plain": [
       "Empty DataFrame\n",
       "Columns: [epoch, training_loss, val_loss, ppl]\n",
       "Index: []"
      ]
     },
     "execution_count": 5,
     "metadata": {},
     "output_type": "execute_result"
    }
   ],
   "source": [
    "result_df"
   ]
  },
  {
   "cell_type": "code",
   "execution_count": null,
   "metadata": {},
   "outputs": [],
   "source": [
    "del result_df['Unnamed: 0']"
   ]
  },
  {
   "cell_type": "code",
   "execution_count": 6,
   "metadata": {},
   "outputs": [
    {
     "data": {
      "text/plain": [
       "0"
      ]
     },
     "execution_count": 6,
     "metadata": {},
     "output_type": "execute_result"
    }
   ],
   "source": [
    "len(result_df['epoch'])"
   ]
  },
  {
   "cell_type": "code",
   "execution_count": null,
   "metadata": {},
   "outputs": [],
   "source": [
    "print(\"T5forQAS\"+str(epoch-1))"
   ]
  },
  {
   "cell_type": "markdown",
   "metadata": {},
   "source": [
    "### Pre-trained checkpoint from hugging face"
   ]
  },
  {
   "cell_type": "code",
   "execution_count": 7,
   "metadata": {
    "colab": {
     "base_uri": "https://localhost:8080/",
     "height": 1000,
     "referenced_widgets": [
      "2565720317a64d7cb8e8fc586a2aaee5",
      "419c3eb5ca6b495ba190b648a9d9ddc6",
      "0926f741df0f4aaf92a6303f99f090fc",
      "403e0a6a4b844090bbb56f1b290aee8b",
      "fbcebd3ccbc34f38984f5d7832b60878",
      "dd4a672f6c174a4eb26aee9dbedb4a84",
      "3790ac631b584760bce74e4aadc8adfa",
      "be5d6d7763c04d8bbc77f79926afb623",
      "8b3fd877ff8f42488eedabee60a421e7",
      "244ec8506c74427395657e3e9e0a3220",
      "36aeb3f0f47d4a379e8893e76b766d6e",
      "c8a4c5b513994cca9d4d67b3566711a7",
      "48e54598de614dedb1f98558dd869beb",
      "445468a87c4b4bac8541acf841df4bdb",
      "5b9f05c1a709436a8b215a9afbbfaa07",
      "814857ce9cf743aa90671335ebeecde9",
      "5903393ac0c34045a66054fef6abecd1",
      "6085f2cb12a74e15a2d22f313ed444b6",
      "e369077b6127433383b80992dc2bd0e0",
      "a26b452422334246af086319bc2db26a",
      "cf50f50172224b89a35123291030c0ad",
      "dba29623e61b4edeb1c9eb3e66ac5181",
      "34ef5d662784417fa86bc74736b1fc9f",
      "02e2f2991a6f4de9a2c958e299587558",
      "45ea49ecf1d543d88f1d46fb96ce7da8",
      "a7729b5192cc4d909e2481bb1d961883",
      "80d537ed2bc74395bccb80405f2ce436",
      "219080281ff5463887b26d830b68d721",
      "8df9fe9265554eb2bf76f052669b2003",
      "093eeb467a8849659df300f1b3709f23",
      "be1711996f064662a300962a29aec0f2",
      "66272d17a4a445c5ba0cb2fd5b7f8a36",
      "259b5455df5a4f4ea917df7956b4d04c",
      "36d205d03af64b2782827932e4fc84f8",
      "2c8009d89b9e4e09aaace7137663f9c2",
      "af236dc91674432bb7acdc1b1948a2fb",
      "ac2a8c23ed864097a66f408ba1a189c3",
      "5506ec4974d544d28c0fbe54950873a5",
      "3a682643c4a140b18458ccd2754ef3d5",
      "8dac6d7e8b5048d6a8d02f2eef25f909",
      "75cf5504a0d342d9b3f44ce1990c4de3",
      "abde6149b789472f89fb301d02929d85",
      "adc39d1a948d4b8199c5ba416bcd2a9e",
      "eee3a3acbd3b4c67b558d4be0d30a6b7"
     ]
    },
    "executionInfo": {
     "elapsed": 43097,
     "status": "ok",
     "timestamp": 1656410085030,
     "user": {
      "displayName": "Faiza Qamar",
      "userId": "01955960500406931452"
     },
     "user_tz": -300
    },
    "id": "w3jTb1AdOuz1",
    "outputId": "ed8e0495-f62b-4b26-8a40-f6508891b635"
   },
   "outputs": [
    {
     "name": "stdout",
     "output_type": "stream",
     "text": [
      "7792.166666666667\n"
     ]
    }
   ],
   "source": [
    "from transformers import T5TokenizerFast, T5ForConditionalGeneration\n",
    "tokenizer = T5TokenizerFast.from_pretrained('T5tokenizer')\n",
    "if len(result_df['epoch'])>0:\n",
    "    model = T5ForConditionalGeneration.from_pretrained(\"Custom_Tokenizer/T5forQAS\"+str(epoch-1)).to(dev)\n",
    "else:\n",
    "    model = T5ForConditionalGeneration.from_pretrained(\"t5-base\").to(dev)\n",
    "\n",
    "seed = 1337\n",
    "np.random.seed(seed)\n",
    "#random.seed(52)\n",
    "train_df=train\n",
    "batch_size=6\n",
    "num_of_batches=len(train_df)/batch_size\n",
    "print(num_of_batches)\n",
    "gc.collect()\n",
    "\n",
    "optimizer = Adafactor(model.parameters(),lr=0.001,\n",
    "                      eps=(1e-30, 1e-3),\n",
    "                      clip_threshold=1.0,\n",
    "                      decay_rate=-0.8,\n",
    "                      beta1=None,\n",
    "                      weight_decay=0.0,\n",
    "                      relative_step=False,\n",
    "                      scale_parameter=False,\n",
    "                      warmup_init=False)\n",
    "\n",
    "from IPython.display import HTML, display\n",
    "def progress(loss,value, max=100):\n",
    " return HTML(\"\"\" Batch loss :{loss}\n",
    "      <progress    \n",
    "value='{value}'max='{max}',style='width: 100%'>{value}\n",
    "      </progress>\n",
    "             \"\"\".format(loss=loss,value=value, max=max))"
   ]
  },
  {
   "cell_type": "code",
   "execution_count": null,
   "metadata": {},
   "outputs": [],
   "source": [
    "epoch"
   ]
  },
  {
   "cell_type": "code",
   "execution_count": 8,
   "metadata": {},
   "outputs": [],
   "source": [
    "def model_validation(model,epoch, running_loss):\n",
    "    model.eval()\n",
    "    bs = 8\n",
    "    val_loss=0\n",
    "    ppl=0\n",
    "    test_num_of_batches=len(test)/bs\n",
    "    predictions = []\n",
    "    torch.cuda.empty_cache()\n",
    "    gc.collect()\n",
    "    print(\"Validating the model\")\n",
    "    for i in tqdm_notebook(range(int(test_num_of_batches))):\n",
    "        ib=[]\n",
    "        lb = []\n",
    "        new_df=test[i*bs:i*bs+bs]\n",
    "        for indx,row in new_df.iterrows():\n",
    "          input =row['input']\n",
    "          ib.append(input)\n",
    "          lb.append(row['Answer'])\n",
    "          torch.cuda.empty_cache()\n",
    "        ib=tokenizer.batch_encode_plus(ib,truncation=True,padding=True,max_length=512,return_tensors='pt')[\"input_ids\"].to(dev)\n",
    "        lb=tokenizer.batch_encode_plus(lb,truncation=True,padding=True,max_length=512,return_tensors='pt')[\"input_ids\"].to(dev)\n",
    "        optimizer.zero_grad()\n",
    "        outputs = model(input_ids=ib,labels=lb)\n",
    "        loss = outputs.loss\n",
    "        val_loss += loss.item()\n",
    "    val_loss = val_loss/test_num_of_batches\n",
    "    print(\"Validation loss: \", val_loss)\n",
    "    wandb.log({\"Training loss\":running_loss,\"Validation loss\": val_loss})\n",
    "    try:\n",
    "        val_loss = np.mean(val_loss)\n",
    "        ppl = math.exp(val_loss)\n",
    "        wandb.log({\"Perplexity\": ppl})\n",
    "    except:\n",
    "        pass\n",
    "    result_row = []\n",
    "    result_row.append(epoch)\n",
    "    result_row.append(running_loss)\n",
    "    result_row.append(val_loss)\n",
    "    result_row.append(ppl)\n",
    "    result_df.loc[len(result_df)]=result_row\n",
    "    result_df.to_csv('Custom_Tokenizer/results.csv')"
   ]
  },
  {
   "cell_type": "code",
   "execution_count": 9,
   "metadata": {
    "scrolled": true
   },
   "outputs": [
    {
     "name": "stdout",
     "output_type": "stream",
     "text": [
      "Running epoch: 1\n"
     ]
    },
    {
     "data": {
      "text/html": [
       " Batch loss :2.3991029262542725\n",
       "      <progress    \n",
       "value='7791'max='7793.166666666667',style='width: 100%'>7791\n",
       "      </progress>\n",
       "             "
      ],
      "text/plain": [
       "<IPython.core.display.HTML object>"
      ]
     },
     "metadata": {},
     "output_type": "display_data"
    },
    {
     "data": {
      "application/vnd.jupyter.widget-view+json": {
       "model_id": "421e25d62eba4ad6b8ce5d23a30f9d91",
       "version_major": 2,
       "version_minor": 0
      },
      "text/plain": [
       "  0%|          | 0/7792 [00:00<?, ?it/s]"
      ]
     },
     "metadata": {},
     "output_type": "display_data"
    },
    {
     "name": "stdout",
     "output_type": "stream",
     "text": [
      "Epoch: 1 , Running loss: 3.136105124817614\n",
      "Validating the model\n"
     ]
    },
    {
     "data": {
      "application/vnd.jupyter.widget-view+json": {
       "model_id": "ae48d84dfe7d440096053a0485e289d4",
       "version_major": 2,
       "version_minor": 0
      },
      "text/plain": [
       "  0%|          | 0/834 [00:00<?, ?it/s]"
      ]
     },
     "metadata": {},
     "output_type": "display_data"
    },
    {
     "name": "stdout",
     "output_type": "stream",
     "text": [
      "Validation loss:  3.4671628708036595\n",
      "Running epoch: 2\n"
     ]
    },
    {
     "data": {
      "text/html": [
       " Batch loss :1.9634994268417358\n",
       "      <progress    \n",
       "value='7791'max='7793.166666666667',style='width: 100%'>7791\n",
       "      </progress>\n",
       "             "
      ],
      "text/plain": [
       "<IPython.core.display.HTML object>"
      ]
     },
     "metadata": {},
     "output_type": "display_data"
    },
    {
     "data": {
      "application/vnd.jupyter.widget-view+json": {
       "model_id": "5b09f7c3493742bdb57e8560169324c0",
       "version_major": 2,
       "version_minor": 0
      },
      "text/plain": [
       "  0%|          | 0/7792 [00:00<?, ?it/s]"
      ]
     },
     "metadata": {},
     "output_type": "display_data"
    },
    {
     "name": "stdout",
     "output_type": "stream",
     "text": [
      "Epoch: 2 , Running loss: 2.4824681731028906\n",
      "Validating the model\n"
     ]
    },
    {
     "data": {
      "application/vnd.jupyter.widget-view+json": {
       "model_id": "277dbda9bc0f44daa849d4182aefe866",
       "version_major": 2,
       "version_minor": 0
      },
      "text/plain": [
       "  0%|          | 0/834 [00:00<?, ?it/s]"
      ]
     },
     "metadata": {},
     "output_type": "display_data"
    },
    {
     "name": "stdout",
     "output_type": "stream",
     "text": [
      "Validation loss:  3.1368304728890264\n",
      "Running epoch: 3\n"
     ]
    },
    {
     "data": {
      "text/html": [
       " Batch loss :1.7234227657318115\n",
       "      <progress    \n",
       "value='7791'max='7793.166666666667',style='width: 100%'>7791\n",
       "      </progress>\n",
       "             "
      ],
      "text/plain": [
       "<IPython.core.display.HTML object>"
      ]
     },
     "metadata": {},
     "output_type": "display_data"
    },
    {
     "data": {
      "application/vnd.jupyter.widget-view+json": {
       "model_id": "269e84bf369f423ea225cfd52f480b2d",
       "version_major": 2,
       "version_minor": 0
      },
      "text/plain": [
       "  0%|          | 0/7792 [00:00<?, ?it/s]"
      ]
     },
     "metadata": {},
     "output_type": "display_data"
    },
    {
     "name": "stderr",
     "output_type": "stream",
     "text": [
      "wandb: Network error (ConnectionError), entering retry loop.\n"
     ]
    },
    {
     "name": "stdout",
     "output_type": "stream",
     "text": [
      "Epoch: 3 , Running loss: 2.1358418832294017\n",
      "Validating the model\n"
     ]
    },
    {
     "data": {
      "application/vnd.jupyter.widget-view+json": {
       "model_id": "5679d5892806465ea972334fb0ba4920",
       "version_major": 2,
       "version_minor": 0
      },
      "text/plain": [
       "  0%|          | 0/834 [00:00<?, ?it/s]"
      ]
     },
     "metadata": {},
     "output_type": "display_data"
    },
    {
     "name": "stdout",
     "output_type": "stream",
     "text": [
      "Validation loss:  3.0550000090453353\n",
      "Running epoch: 4\n"
     ]
    },
    {
     "data": {
      "text/html": [
       " Batch loss :1.5002937316894531\n",
       "      <progress    \n",
       "value='7791'max='7793.166666666667',style='width: 100%'>7791\n",
       "      </progress>\n",
       "             "
      ],
      "text/plain": [
       "<IPython.core.display.HTML object>"
      ]
     },
     "metadata": {},
     "output_type": "display_data"
    },
    {
     "data": {
      "application/vnd.jupyter.widget-view+json": {
       "model_id": "c203a4499629405cb2dda4176ad847e3",
       "version_major": 2,
       "version_minor": 0
      },
      "text/plain": [
       "  0%|          | 0/7792 [00:00<?, ?it/s]"
      ]
     },
     "metadata": {},
     "output_type": "display_data"
    },
    {
     "name": "stdout",
     "output_type": "stream",
     "text": [
      "Epoch: 4 , Running loss: 1.848269005390209\n",
      "Validating the model\n"
     ]
    },
    {
     "data": {
      "application/vnd.jupyter.widget-view+json": {
       "model_id": "ef2f1280adb045f6bb33967c114a0f4a",
       "version_major": 2,
       "version_minor": 0
      },
      "text/plain": [
       "  0%|          | 0/834 [00:00<?, ?it/s]"
      ]
     },
     "metadata": {},
     "output_type": "display_data"
    },
    {
     "name": "stdout",
     "output_type": "stream",
     "text": [
      "Validation loss:  3.153676218369394\n",
      "Running epoch: 5\n"
     ]
    },
    {
     "data": {
      "text/html": [
       " Batch loss :1.3116649389266968\n",
       "      <progress    \n",
       "value='7791'max='7793.166666666667',style='width: 100%'>7791\n",
       "      </progress>\n",
       "             "
      ],
      "text/plain": [
       "<IPython.core.display.HTML object>"
      ]
     },
     "metadata": {},
     "output_type": "display_data"
    },
    {
     "data": {
      "application/vnd.jupyter.widget-view+json": {
       "model_id": "cbc00f91799044bf882a9b474ca7c9d0",
       "version_major": 2,
       "version_minor": 0
      },
      "text/plain": [
       "  0%|          | 0/7792 [00:00<?, ?it/s]"
      ]
     },
     "metadata": {},
     "output_type": "display_data"
    },
    {
     "name": "stdout",
     "output_type": "stream",
     "text": [
      "Epoch: 5 , Running loss: 1.59108010351895\n",
      "Validating the model\n"
     ]
    },
    {
     "data": {
      "application/vnd.jupyter.widget-view+json": {
       "model_id": "3afecca243354f128c5d13bde688822b",
       "version_major": 2,
       "version_minor": 0
      },
      "text/plain": [
       "  0%|          | 0/834 [00:00<?, ?it/s]"
      ]
     },
     "metadata": {},
     "output_type": "display_data"
    },
    {
     "name": "stdout",
     "output_type": "stream",
     "text": [
      "Validation loss:  3.2930666223266583\n",
      "Running epoch: 6\n"
     ]
    },
    {
     "data": {
      "text/html": [
       " Batch loss :1.1705145835876465\n",
       "      <progress    \n",
       "value='7791'max='7793.166666666667',style='width: 100%'>7791\n",
       "      </progress>\n",
       "             "
      ],
      "text/plain": [
       "<IPython.core.display.HTML object>"
      ]
     },
     "metadata": {},
     "output_type": "display_data"
    },
    {
     "data": {
      "application/vnd.jupyter.widget-view+json": {
       "model_id": "22f25b2537d74c8bb762d599b1af4ff8",
       "version_major": 2,
       "version_minor": 0
      },
      "text/plain": [
       "  0%|          | 0/7792 [00:00<?, ?it/s]"
      ]
     },
     "metadata": {},
     "output_type": "display_data"
    },
    {
     "name": "stdout",
     "output_type": "stream",
     "text": [
      "Epoch: 6 , Running loss: 1.3581692255293334\n",
      "Validating the model\n"
     ]
    },
    {
     "data": {
      "application/vnd.jupyter.widget-view+json": {
       "model_id": "e9f3a2552d714ca7a643bcff6f888464",
       "version_major": 2,
       "version_minor": 0
      },
      "text/plain": [
       "  0%|          | 0/834 [00:00<?, ?it/s]"
      ]
     },
     "metadata": {},
     "output_type": "display_data"
    },
    {
     "name": "stdout",
     "output_type": "stream",
     "text": [
      "Validation loss:  3.601861217051941\n",
      "Running epoch: 7\n"
     ]
    },
    {
     "data": {
      "text/html": [
       " Batch loss :0.8968809247016907\n",
       "      <progress    \n",
       "value='7791'max='7793.166666666667',style='width: 100%'>7791\n",
       "      </progress>\n",
       "             "
      ],
      "text/plain": [
       "<IPython.core.display.HTML object>"
      ]
     },
     "metadata": {},
     "output_type": "display_data"
    },
    {
     "data": {
      "application/vnd.jupyter.widget-view+json": {
       "model_id": "9b0c45141b3b4a36a47ab6e48fa530ad",
       "version_major": 2,
       "version_minor": 0
      },
      "text/plain": [
       "  0%|          | 0/7792 [00:00<?, ?it/s]"
      ]
     },
     "metadata": {},
     "output_type": "display_data"
    },
    {
     "name": "stdout",
     "output_type": "stream",
     "text": [
      "Epoch: 7 , Running loss: 1.1478920700798265\n",
      "Validating the model\n"
     ]
    },
    {
     "data": {
      "application/vnd.jupyter.widget-view+json": {
       "model_id": "639caccde4194aeb81d81fb8872f191f",
       "version_major": 2,
       "version_minor": 0
      },
      "text/plain": [
       "  0%|          | 0/834 [00:00<?, ?it/s]"
      ]
     },
     "metadata": {},
     "output_type": "display_data"
    },
    {
     "name": "stdout",
     "output_type": "stream",
     "text": [
      "Validation loss:  3.8857823018902002\n",
      "Running epoch: 8\n"
     ]
    },
    {
     "data": {
      "text/html": [
       " Batch loss :0.7181767225265503\n",
       "      <progress    \n",
       "value='7791'max='7793.166666666667',style='width: 100%'>7791\n",
       "      </progress>\n",
       "             "
      ],
      "text/plain": [
       "<IPython.core.display.HTML object>"
      ]
     },
     "metadata": {},
     "output_type": "display_data"
    },
    {
     "data": {
      "application/vnd.jupyter.widget-view+json": {
       "model_id": "4c5dab72af044bb1b5062a892e42fb98",
       "version_major": 2,
       "version_minor": 0
      },
      "text/plain": [
       "  0%|          | 0/7792 [00:00<?, ?it/s]"
      ]
     },
     "metadata": {},
     "output_type": "display_data"
    },
    {
     "name": "stdout",
     "output_type": "stream",
     "text": [
      "Epoch: 8 , Running loss: 0.9615327090429414\n",
      "Validating the model\n"
     ]
    },
    {
     "data": {
      "application/vnd.jupyter.widget-view+json": {
       "model_id": "6f2f0464ca544d059a845f1ed2e4f979",
       "version_major": 2,
       "version_minor": 0
      },
      "text/plain": [
       "  0%|          | 0/834 [00:00<?, ?it/s]"
      ]
     },
     "metadata": {},
     "output_type": "display_data"
    },
    {
     "name": "stdout",
     "output_type": "stream",
     "text": [
      "Validation loss:  4.2788094462142725\n",
      "Running epoch: 9\n"
     ]
    },
    {
     "data": {
      "text/html": [
       " Batch loss :0.6468531489372253\n",
       "      <progress    \n",
       "value='7791'max='7793.166666666667',style='width: 100%'>7791\n",
       "      </progress>\n",
       "             "
      ],
      "text/plain": [
       "<IPython.core.display.HTML object>"
      ]
     },
     "metadata": {},
     "output_type": "display_data"
    },
    {
     "data": {
      "application/vnd.jupyter.widget-view+json": {
       "model_id": "d5614c3989b04ddd85461803b2fc847d",
       "version_major": 2,
       "version_minor": 0
      },
      "text/plain": [
       "  0%|          | 0/7792 [00:00<?, ?it/s]"
      ]
     },
     "metadata": {},
     "output_type": "display_data"
    },
    {
     "name": "stdout",
     "output_type": "stream",
     "text": [
      "Epoch: 9 , Running loss: 0.8036424368345017\n",
      "Validating the model\n"
     ]
    },
    {
     "data": {
      "application/vnd.jupyter.widget-view+json": {
       "model_id": "9bee4174e16b4e4e9165ad22454803df",
       "version_major": 2,
       "version_minor": 0
      },
      "text/plain": [
       "  0%|          | 0/834 [00:00<?, ?it/s]"
      ]
     },
     "metadata": {},
     "output_type": "display_data"
    },
    {
     "name": "stdout",
     "output_type": "stream",
     "text": [
      "Validation loss:  4.5183435960613085\n",
      "Running epoch: 10\n"
     ]
    },
    {
     "data": {
      "text/html": [
       " Batch loss :0.5090361833572388\n",
       "      <progress    \n",
       "value='7791'max='7793.166666666667',style='width: 100%'>7791\n",
       "      </progress>\n",
       "             "
      ],
      "text/plain": [
       "<IPython.core.display.HTML object>"
      ]
     },
     "metadata": {},
     "output_type": "display_data"
    },
    {
     "data": {
      "application/vnd.jupyter.widget-view+json": {
       "model_id": "25df3091f910490984d1d299173cf32c",
       "version_major": 2,
       "version_minor": 0
      },
      "text/plain": [
       "  0%|          | 0/7792 [00:00<?, ?it/s]"
      ]
     },
     "metadata": {},
     "output_type": "display_data"
    },
    {
     "name": "stdout",
     "output_type": "stream",
     "text": [
      "Epoch: 10 , Running loss: 0.6721600512132523\n",
      "Validating the model\n"
     ]
    },
    {
     "data": {
      "application/vnd.jupyter.widget-view+json": {
       "model_id": "24c3f6982832404dab1b30f0508ae3bb",
       "version_major": 2,
       "version_minor": 0
      },
      "text/plain": [
       "  0%|          | 0/834 [00:00<?, ?it/s]"
      ]
     },
     "metadata": {},
     "output_type": "display_data"
    },
    {
     "name": "stdout",
     "output_type": "stream",
     "text": [
      "Validation loss:  4.7900740924604355\n",
      "Running epoch: 11\n"
     ]
    },
    {
     "data": {
      "text/html": [
       " Batch loss :0.4707537889480591\n",
       "      <progress    \n",
       "value='7791'max='7793.166666666667',style='width: 100%'>7791\n",
       "      </progress>\n",
       "             "
      ],
      "text/plain": [
       "<IPython.core.display.HTML object>"
      ]
     },
     "metadata": {},
     "output_type": "display_data"
    },
    {
     "data": {
      "application/vnd.jupyter.widget-view+json": {
       "model_id": "bdfe801e04d6429e946d3a317737c9bd",
       "version_major": 2,
       "version_minor": 0
      },
      "text/plain": [
       "  0%|          | 0/7792 [00:00<?, ?it/s]"
      ]
     },
     "metadata": {},
     "output_type": "display_data"
    },
    {
     "name": "stdout",
     "output_type": "stream",
     "text": [
      "Epoch: 11 , Running loss: 0.5665562358888983\n",
      "Validating the model\n"
     ]
    },
    {
     "data": {
      "application/vnd.jupyter.widget-view+json": {
       "model_id": "dd91e60419554a3888ac1ed3a3cda246",
       "version_major": 2,
       "version_minor": 0
      },
      "text/plain": [
       "  0%|          | 0/834 [00:00<?, ?it/s]"
      ]
     },
     "metadata": {},
     "output_type": "display_data"
    },
    {
     "name": "stdout",
     "output_type": "stream",
     "text": [
      "Validation loss:  4.9951842074054245\n",
      "Running epoch: 12\n"
     ]
    },
    {
     "data": {
      "text/html": [
       " Batch loss :0.3185284435749054\n",
       "      <progress    \n",
       "value='7791'max='7793.166666666667',style='width: 100%'>7791\n",
       "      </progress>\n",
       "             "
      ],
      "text/plain": [
       "<IPython.core.display.HTML object>"
      ]
     },
     "metadata": {},
     "output_type": "display_data"
    },
    {
     "data": {
      "application/vnd.jupyter.widget-view+json": {
       "model_id": "5314c0b3afd44a699a519f46f41c9642",
       "version_major": 2,
       "version_minor": 0
      },
      "text/plain": [
       "  0%|          | 0/7792 [00:00<?, ?it/s]"
      ]
     },
     "metadata": {},
     "output_type": "display_data"
    },
    {
     "name": "stdout",
     "output_type": "stream",
     "text": [
      "Epoch: 12 , Running loss: 0.4803388390938218\n",
      "Validating the model\n"
     ]
    },
    {
     "data": {
      "application/vnd.jupyter.widget-view+json": {
       "model_id": "33cfa0280b6047ae9fecbfd967b3b6fe",
       "version_major": 2,
       "version_minor": 0
      },
      "text/plain": [
       "  0%|          | 0/834 [00:00<?, ?it/s]"
      ]
     },
     "metadata": {},
     "output_type": "display_data"
    },
    {
     "name": "stdout",
     "output_type": "stream",
     "text": [
      "Validation loss:  5.192615684454423\n",
      "Running epoch: 13\n"
     ]
    },
    {
     "data": {
      "text/html": [
       " Batch loss :0.29746121168136597\n",
       "      <progress    \n",
       "value='7791'max='7793.166666666667',style='width: 100%'>7791\n",
       "      </progress>\n",
       "             "
      ],
      "text/plain": [
       "<IPython.core.display.HTML object>"
      ]
     },
     "metadata": {},
     "output_type": "display_data"
    },
    {
     "data": {
      "application/vnd.jupyter.widget-view+json": {
       "model_id": "a985c25057fd41bc830572953b0aaae1",
       "version_major": 2,
       "version_minor": 0
      },
      "text/plain": [
       "  0%|          | 0/7792 [00:00<?, ?it/s]"
      ]
     },
     "metadata": {},
     "output_type": "display_data"
    },
    {
     "name": "stderr",
     "output_type": "stream",
     "text": [
      "wandb: Network error (ConnectionError), entering retry loop.\n"
     ]
    },
    {
     "name": "stdout",
     "output_type": "stream",
     "text": [
      "Epoch: 13 , Running loss: 0.4139606980958311\n",
      "Validating the model\n"
     ]
    },
    {
     "data": {
      "application/vnd.jupyter.widget-view+json": {
       "model_id": "bcaef94fbdb94eaaa8090dc34d500c5e",
       "version_major": 2,
       "version_minor": 0
      },
      "text/plain": [
       "  0%|          | 0/834 [00:00<?, ?it/s]"
      ]
     },
     "metadata": {},
     "output_type": "display_data"
    },
    {
     "name": "stdout",
     "output_type": "stream",
     "text": [
      "Validation loss:  5.4774158273791755\n",
      "Running epoch: 14\n"
     ]
    },
    {
     "data": {
      "text/html": [
       " Batch loss :0.26368510723114014\n",
       "      <progress    \n",
       "value='7791'max='7793.166666666667',style='width: 100%'>7791\n",
       "      </progress>\n",
       "             "
      ],
      "text/plain": [
       "<IPython.core.display.HTML object>"
      ]
     },
     "metadata": {},
     "output_type": "display_data"
    },
    {
     "data": {
      "application/vnd.jupyter.widget-view+json": {
       "model_id": "e85ada6664bc43819883cb3bdbb99243",
       "version_major": 2,
       "version_minor": 0
      },
      "text/plain": [
       "  0%|          | 0/7792 [00:00<?, ?it/s]"
      ]
     },
     "metadata": {},
     "output_type": "display_data"
    },
    {
     "name": "stderr",
     "output_type": "stream",
     "text": [
      "wandb: Network error (ConnectionError), entering retry loop.\n"
     ]
    },
    {
     "name": "stdout",
     "output_type": "stream",
     "text": [
      "Epoch: 14 , Running loss: 0.35974709845690184\n",
      "Validating the model\n"
     ]
    },
    {
     "data": {
      "application/vnd.jupyter.widget-view+json": {
       "model_id": "8a92528981ec4697980f01aec9c3891d",
       "version_major": 2,
       "version_minor": 0
      },
      "text/plain": [
       "  0%|          | 0/834 [00:00<?, ?it/s]"
      ]
     },
     "metadata": {},
     "output_type": "display_data"
    },
    {
     "name": "stdout",
     "output_type": "stream",
     "text": [
      "Validation loss:  5.5883203321334625\n",
      "Running epoch: 15\n"
     ]
    },
    {
     "data": {
      "text/html": [
       " Batch loss :0.2584388256072998\n",
       "      <progress    \n",
       "value='7791'max='7793.166666666667',style='width: 100%'>7791\n",
       "      </progress>\n",
       "             "
      ],
      "text/plain": [
       "<IPython.core.display.HTML object>"
      ]
     },
     "metadata": {},
     "output_type": "display_data"
    },
    {
     "data": {
      "application/vnd.jupyter.widget-view+json": {
       "model_id": "5be10af1280849be97d70426a6a7de8a",
       "version_major": 2,
       "version_minor": 0
      },
      "text/plain": [
       "  0%|          | 0/7792 [00:00<?, ?it/s]"
      ]
     },
     "metadata": {},
     "output_type": "display_data"
    },
    {
     "name": "stdout",
     "output_type": "stream",
     "text": [
      "Epoch: 15 , Running loss: 0.31718323958640365\n",
      "Validating the model\n"
     ]
    },
    {
     "data": {
      "application/vnd.jupyter.widget-view+json": {
       "model_id": "31cdaf4190594be9aec4535cba8236f4",
       "version_major": 2,
       "version_minor": 0
      },
      "text/plain": [
       "  0%|          | 0/834 [00:00<?, ?it/s]"
      ]
     },
     "metadata": {},
     "output_type": "display_data"
    },
    {
     "name": "stdout",
     "output_type": "stream",
     "text": [
      "Validation loss:  5.5218211577422895\n",
      "Running epoch: 16\n"
     ]
    },
    {
     "data": {
      "text/html": [
       " Batch loss :0.2723482549190521\n",
       "      <progress    \n",
       "value='7791'max='7793.166666666667',style='width: 100%'>7791\n",
       "      </progress>\n",
       "             "
      ],
      "text/plain": [
       "<IPython.core.display.HTML object>"
      ]
     },
     "metadata": {},
     "output_type": "display_data"
    },
    {
     "data": {
      "application/vnd.jupyter.widget-view+json": {
       "model_id": "d4a2d8721fc545ec9b36476e2a7313de",
       "version_major": 2,
       "version_minor": 0
      },
      "text/plain": [
       "  0%|          | 0/7792 [00:00<?, ?it/s]"
      ]
     },
     "metadata": {},
     "output_type": "display_data"
    },
    {
     "name": "stdout",
     "output_type": "stream",
     "text": [
      "Epoch: 16 , Running loss: 0.28610055194803113\n",
      "Validating the model\n"
     ]
    },
    {
     "data": {
      "application/vnd.jupyter.widget-view+json": {
       "model_id": "a2b749a1e97243229bd4daeae8545a41",
       "version_major": 2,
       "version_minor": 0
      },
      "text/plain": [
       "  0%|          | 0/834 [00:00<?, ?it/s]"
      ]
     },
     "metadata": {},
     "output_type": "display_data"
    },
    {
     "name": "stdout",
     "output_type": "stream",
     "text": [
      "Validation loss:  5.55877424029264\n",
      "Running epoch: 17\n"
     ]
    },
    {
     "data": {
      "text/html": [
       " Batch loss :0.21966303884983063\n",
       "      <progress    \n",
       "value='7791'max='7793.166666666667',style='width: 100%'>7791\n",
       "      </progress>\n",
       "             "
      ],
      "text/plain": [
       "<IPython.core.display.HTML object>"
      ]
     },
     "metadata": {},
     "output_type": "display_data"
    },
    {
     "data": {
      "application/vnd.jupyter.widget-view+json": {
       "model_id": "25f230921a3840aebfae9ba7538eef0d",
       "version_major": 2,
       "version_minor": 0
      },
      "text/plain": [
       "  0%|          | 0/7792 [00:00<?, ?it/s]"
      ]
     },
     "metadata": {},
     "output_type": "display_data"
    },
    {
     "name": "stderr",
     "output_type": "stream",
     "text": [
      "wandb: Network error (ConnectionError), entering retry loop.\n"
     ]
    },
    {
     "name": "stdout",
     "output_type": "stream",
     "text": [
      "Epoch: 17 , Running loss: 0.2602371505096013\n",
      "Validating the model\n"
     ]
    },
    {
     "data": {
      "application/vnd.jupyter.widget-view+json": {
       "model_id": "0bf3ecce19fb45789605bd50a1fceb75",
       "version_major": 2,
       "version_minor": 0
      },
      "text/plain": [
       "  0%|          | 0/834 [00:00<?, ?it/s]"
      ]
     },
     "metadata": {},
     "output_type": "display_data"
    },
    {
     "name": "stdout",
     "output_type": "stream",
     "text": [
      "Validation loss:  5.766227829306335\n",
      "Running epoch: 18\n"
     ]
    },
    {
     "data": {
      "text/html": [
       " Batch loss :0.22969001531600952\n",
       "      <progress    \n",
       "value='7791'max='7793.166666666667',style='width: 100%'>7791\n",
       "      </progress>\n",
       "             "
      ],
      "text/plain": [
       "<IPython.core.display.HTML object>"
      ]
     },
     "metadata": {},
     "output_type": "display_data"
    },
    {
     "data": {
      "application/vnd.jupyter.widget-view+json": {
       "model_id": "be2976ac00174f0b8f36e4960bbf852b",
       "version_major": 2,
       "version_minor": 0
      },
      "text/plain": [
       "  0%|          | 0/7792 [00:00<?, ?it/s]"
      ]
     },
     "metadata": {},
     "output_type": "display_data"
    },
    {
     "name": "stdout",
     "output_type": "stream",
     "text": [
      "Epoch: 18 , Running loss: 0.23709414913566465\n",
      "Validating the model\n"
     ]
    },
    {
     "data": {
      "application/vnd.jupyter.widget-view+json": {
       "model_id": "f6c8607ad37547d38310d579f5eef6a8",
       "version_major": 2,
       "version_minor": 0
      },
      "text/plain": [
       "  0%|          | 0/834 [00:00<?, ?it/s]"
      ]
     },
     "metadata": {},
     "output_type": "display_data"
    },
    {
     "name": "stdout",
     "output_type": "stream",
     "text": [
      "Validation loss:  5.81940495046475\n",
      "Running epoch: 19\n"
     ]
    },
    {
     "data": {
      "text/html": [
       " Batch loss :0.1316511183977127\n",
       "      <progress    \n",
       "value='7791'max='7793.166666666667',style='width: 100%'>7791\n",
       "      </progress>\n",
       "             "
      ],
      "text/plain": [
       "<IPython.core.display.HTML object>"
      ]
     },
     "metadata": {},
     "output_type": "display_data"
    },
    {
     "data": {
      "application/vnd.jupyter.widget-view+json": {
       "model_id": "7e58fbc3570c44c28b49d4ec669ff5bd",
       "version_major": 2,
       "version_minor": 0
      },
      "text/plain": [
       "  0%|          | 0/7792 [00:00<?, ?it/s]"
      ]
     },
     "metadata": {},
     "output_type": "display_data"
    },
    {
     "name": "stdout",
     "output_type": "stream",
     "text": [
      "Epoch: 19 , Running loss: 0.2196400022592316\n",
      "Validating the model\n"
     ]
    },
    {
     "data": {
      "application/vnd.jupyter.widget-view+json": {
       "model_id": "239c0c33c06644c18d85ff4176b76cb9",
       "version_major": 2,
       "version_minor": 0
      },
      "text/plain": [
       "  0%|          | 0/834 [00:00<?, ?it/s]"
      ]
     },
     "metadata": {},
     "output_type": "display_data"
    },
    {
     "name": "stdout",
     "output_type": "stream",
     "text": [
      "Validation loss:  5.7760575966180765\n",
      "Running epoch: 20\n"
     ]
    },
    {
     "data": {
      "text/html": [
       " Batch loss :0.16395196318626404\n",
       "      <progress    \n",
       "value='7791'max='7793.166666666667',style='width: 100%'>7791\n",
       "      </progress>\n",
       "             "
      ],
      "text/plain": [
       "<IPython.core.display.HTML object>"
      ]
     },
     "metadata": {},
     "output_type": "display_data"
    },
    {
     "data": {
      "application/vnd.jupyter.widget-view+json": {
       "model_id": "a2eec53c05a24995b1d6ef90c1c63354",
       "version_major": 2,
       "version_minor": 0
      },
      "text/plain": [
       "  0%|          | 0/7792 [00:00<?, ?it/s]"
      ]
     },
     "metadata": {},
     "output_type": "display_data"
    },
    {
     "name": "stdout",
     "output_type": "stream",
     "text": [
      "Epoch: 20 , Running loss: 0.20493120940858012\n",
      "Validating the model\n"
     ]
    },
    {
     "data": {
      "application/vnd.jupyter.widget-view+json": {
       "model_id": "0e3c8faaa17f48c28cd7a8ca49d62379",
       "version_major": 2,
       "version_minor": 0
      },
      "text/plain": [
       "  0%|          | 0/834 [00:00<?, ?it/s]"
      ]
     },
     "metadata": {},
     "output_type": "display_data"
    },
    {
     "name": "stdout",
     "output_type": "stream",
     "text": [
      "Validation loss:  5.866438124692675\n",
      "Running epoch: 21\n"
     ]
    },
    {
     "data": {
      "text/html": [
       " Batch loss :0.1423981636762619\n",
       "      <progress    \n",
       "value='7791'max='7793.166666666667',style='width: 100%'>7791\n",
       "      </progress>\n",
       "             "
      ],
      "text/plain": [
       "<IPython.core.display.HTML object>"
      ]
     },
     "metadata": {},
     "output_type": "display_data"
    },
    {
     "data": {
      "application/vnd.jupyter.widget-view+json": {
       "model_id": "3de6a6b94e3248e1ab16074be5b8c9e7",
       "version_major": 2,
       "version_minor": 0
      },
      "text/plain": [
       "  0%|          | 0/7792 [00:00<?, ?it/s]"
      ]
     },
     "metadata": {},
     "output_type": "display_data"
    },
    {
     "name": "stdout",
     "output_type": "stream",
     "text": [
      "Epoch: 21 , Running loss: 0.1909903540295473\n",
      "Validating the model\n"
     ]
    },
    {
     "data": {
      "application/vnd.jupyter.widget-view+json": {
       "model_id": "112d5ee45ceb473e872b396a2038c882",
       "version_major": 2,
       "version_minor": 0
      },
      "text/plain": [
       "  0%|          | 0/834 [00:00<?, ?it/s]"
      ]
     },
     "metadata": {},
     "output_type": "display_data"
    },
    {
     "name": "stdout",
     "output_type": "stream",
     "text": [
      "Validation loss:  5.998780953662705\n",
      "Running epoch: 22\n"
     ]
    },
    {
     "data": {
      "text/html": [
       " Batch loss :0.1896669715642929\n",
       "      <progress    \n",
       "value='7791'max='7793.166666666667',style='width: 100%'>7791\n",
       "      </progress>\n",
       "             "
      ],
      "text/plain": [
       "<IPython.core.display.HTML object>"
      ]
     },
     "metadata": {},
     "output_type": "display_data"
    },
    {
     "data": {
      "application/vnd.jupyter.widget-view+json": {
       "model_id": "5a93cc3f03c34eacb55829a3e0417a95",
       "version_major": 2,
       "version_minor": 0
      },
      "text/plain": [
       "  0%|          | 0/7792 [00:00<?, ?it/s]"
      ]
     },
     "metadata": {},
     "output_type": "display_data"
    },
    {
     "name": "stdout",
     "output_type": "stream",
     "text": [
      "Epoch: 22 , Running loss: 0.18111950326951778\n",
      "Validating the model\n"
     ]
    },
    {
     "data": {
      "application/vnd.jupyter.widget-view+json": {
       "model_id": "a2ba430e01cf471b87535173dd7bceff",
       "version_major": 2,
       "version_minor": 0
      },
      "text/plain": [
       "  0%|          | 0/834 [00:00<?, ?it/s]"
      ]
     },
     "metadata": {},
     "output_type": "display_data"
    },
    {
     "name": "stdout",
     "output_type": "stream",
     "text": [
      "Validation loss:  5.9171337951365315\n",
      "Running epoch: 23\n"
     ]
    },
    {
     "data": {
      "text/html": [
       " Batch loss :0.1464454084634781\n",
       "      <progress    \n",
       "value='7791'max='7793.166666666667',style='width: 100%'>7791\n",
       "      </progress>\n",
       "             "
      ],
      "text/plain": [
       "<IPython.core.display.HTML object>"
      ]
     },
     "metadata": {},
     "output_type": "display_data"
    },
    {
     "data": {
      "application/vnd.jupyter.widget-view+json": {
       "model_id": "41603a548db24865b1a3ea7c2df33f99",
       "version_major": 2,
       "version_minor": 0
      },
      "text/plain": [
       "  0%|          | 0/7792 [00:00<?, ?it/s]"
      ]
     },
     "metadata": {},
     "output_type": "display_data"
    },
    {
     "name": "stderr",
     "output_type": "stream",
     "text": [
      "wandb: ERROR Metric data exceeds maximum size of 10.4MB (10.9MB)\n",
      "wandb: ERROR Summary data exceeds maximum size of 10.4MB. Dropping it.\n"
     ]
    },
    {
     "name": "stdout",
     "output_type": "stream",
     "text": [
      "Epoch: 23 , Running loss: 0.17075961259780814\n",
      "Validating the model\n"
     ]
    },
    {
     "data": {
      "application/vnd.jupyter.widget-view+json": {
       "model_id": "f7aaaa79b8ce4f6998b704010f2330f4",
       "version_major": 2,
       "version_minor": 0
      },
      "text/plain": [
       "  0%|          | 0/834 [00:00<?, ?it/s]"
      ]
     },
     "metadata": {},
     "output_type": "display_data"
    },
    {
     "name": "stdout",
     "output_type": "stream",
     "text": [
      "Validation loss:  5.925312268369708\n",
      "Running epoch: 24\n"
     ]
    },
    {
     "data": {
      "text/html": [
       " Batch loss :0.1698339283466339\n",
       "      <progress    \n",
       "value='7791'max='7793.166666666667',style='width: 100%'>7791\n",
       "      </progress>\n",
       "             "
      ],
      "text/plain": [
       "<IPython.core.display.HTML object>"
      ]
     },
     "metadata": {},
     "output_type": "display_data"
    },
    {
     "data": {
      "application/vnd.jupyter.widget-view+json": {
       "model_id": "393b401467a1421287fc6cc21cd8e367",
       "version_major": 2,
       "version_minor": 0
      },
      "text/plain": [
       "  0%|          | 0/7792 [00:00<?, ?it/s]"
      ]
     },
     "metadata": {},
     "output_type": "display_data"
    },
    {
     "name": "stderr",
     "output_type": "stream",
     "text": [
      "wandb: ERROR Metric data exceeds maximum size of 10.4MB (11.4MB)\n"
     ]
    },
    {
     "name": "stdout",
     "output_type": "stream",
     "text": [
      "Epoch: 24 , Running loss: 0.16125118374272088\n",
      "Validating the model\n"
     ]
    },
    {
     "data": {
      "application/vnd.jupyter.widget-view+json": {
       "model_id": "00ec196a794a41f0ba1c9f3016c01113",
       "version_major": 2,
       "version_minor": 0
      },
      "text/plain": [
       "  0%|          | 0/834 [00:00<?, ?it/s]"
      ]
     },
     "metadata": {},
     "output_type": "display_data"
    },
    {
     "name": "stdout",
     "output_type": "stream",
     "text": [
      "Validation loss:  5.95368194437227\n",
      "Running epoch: 25\n"
     ]
    },
    {
     "data": {
      "text/html": [
       " Batch loss :0.10094022005796432\n",
       "      <progress    \n",
       "value='7791'max='7793.166666666667',style='width: 100%'>7791\n",
       "      </progress>\n",
       "             "
      ],
      "text/plain": [
       "<IPython.core.display.HTML object>"
      ]
     },
     "metadata": {},
     "output_type": "display_data"
    },
    {
     "data": {
      "application/vnd.jupyter.widget-view+json": {
       "model_id": "b866b13d42744ccbab2e64de7fd4c481",
       "version_major": 2,
       "version_minor": 0
      },
      "text/plain": [
       "  0%|          | 0/7792 [00:00<?, ?it/s]"
      ]
     },
     "metadata": {},
     "output_type": "display_data"
    },
    {
     "name": "stderr",
     "output_type": "stream",
     "text": [
      "wandb: ERROR Metric data exceeds maximum size of 10.4MB (11.9MB)\n"
     ]
    },
    {
     "name": "stdout",
     "output_type": "stream",
     "text": [
      "Epoch: 25 , Running loss: 0.15463440220484972\n",
      "Validating the model\n"
     ]
    },
    {
     "data": {
      "application/vnd.jupyter.widget-view+json": {
       "model_id": "dd90903c336b4d21a52f22b78cc02047",
       "version_major": 2,
       "version_minor": 0
      },
      "text/plain": [
       "  0%|          | 0/834 [00:00<?, ?it/s]"
      ]
     },
     "metadata": {},
     "output_type": "display_data"
    },
    {
     "name": "stdout",
     "output_type": "stream",
     "text": [
      "Validation loss:  6.011658680660415\n",
      "Running epoch: 26\n"
     ]
    },
    {
     "data": {
      "text/html": [
       " Batch loss :0.1614181399345398\n",
       "      <progress    \n",
       "value='7791'max='7793.166666666667',style='width: 100%'>7791\n",
       "      </progress>\n",
       "             "
      ],
      "text/plain": [
       "<IPython.core.display.HTML object>"
      ]
     },
     "metadata": {},
     "output_type": "display_data"
    },
    {
     "data": {
      "application/vnd.jupyter.widget-view+json": {
       "model_id": "5f506fa16ee2439c9db1524e5c711049",
       "version_major": 2,
       "version_minor": 0
      },
      "text/plain": [
       "  0%|          | 0/7792 [00:00<?, ?it/s]"
      ]
     },
     "metadata": {},
     "output_type": "display_data"
    },
    {
     "name": "stderr",
     "output_type": "stream",
     "text": [
      "wandb: ERROR Metric data exceeds maximum size of 10.4MB (12.4MB)\n",
      "wandb: Network error (ConnectionError), entering retry loop.\n"
     ]
    },
    {
     "name": "stdout",
     "output_type": "stream",
     "text": [
      "Epoch: 26 , Running loss: 0.14740057716857452\n",
      "Validating the model\n"
     ]
    },
    {
     "data": {
      "application/vnd.jupyter.widget-view+json": {
       "model_id": "72170d785edd44c2a59962be862fb8a4",
       "version_major": 2,
       "version_minor": 0
      },
      "text/plain": [
       "  0%|          | 0/834 [00:00<?, ?it/s]"
      ]
     },
     "metadata": {},
     "output_type": "display_data"
    },
    {
     "name": "stdout",
     "output_type": "stream",
     "text": [
      "Validation loss:  6.048479881023775\n",
      "Running epoch: 27\n"
     ]
    },
    {
     "data": {
      "text/html": [
       " Batch loss :0.13166427612304688\n",
       "      <progress    \n",
       "value='7791'max='7793.166666666667',style='width: 100%'>7791\n",
       "      </progress>\n",
       "             "
      ],
      "text/plain": [
       "<IPython.core.display.HTML object>"
      ]
     },
     "metadata": {},
     "output_type": "display_data"
    },
    {
     "data": {
      "application/vnd.jupyter.widget-view+json": {
       "model_id": "d17b859aad78457db2560d0fcbe10099",
       "version_major": 2,
       "version_minor": 0
      },
      "text/plain": [
       "  0%|          | 0/7792 [00:00<?, ?it/s]"
      ]
     },
     "metadata": {},
     "output_type": "display_data"
    },
    {
     "name": "stderr",
     "output_type": "stream",
     "text": [
      "wandb: ERROR Metric data exceeds maximum size of 10.4MB (12.9MB)\n"
     ]
    },
    {
     "name": "stdout",
     "output_type": "stream",
     "text": [
      "Epoch: 27 , Running loss: 0.1408191141508686\n",
      "Validating the model\n"
     ]
    },
    {
     "data": {
      "application/vnd.jupyter.widget-view+json": {
       "model_id": "afa745074e004e71a9f7cae0c3e3b43f",
       "version_major": 2,
       "version_minor": 0
      },
      "text/plain": [
       "  0%|          | 0/834 [00:00<?, ?it/s]"
      ]
     },
     "metadata": {},
     "output_type": "display_data"
    },
    {
     "name": "stdout",
     "output_type": "stream",
     "text": [
      "Validation loss:  6.17765905029978\n",
      "Running epoch: 28\n"
     ]
    },
    {
     "data": {
      "text/html": [
       " Batch loss :0.10307072103023529\n",
       "      <progress    \n",
       "value='7791'max='7793.166666666667',style='width: 100%'>7791\n",
       "      </progress>\n",
       "             "
      ],
      "text/plain": [
       "<IPython.core.display.HTML object>"
      ]
     },
     "metadata": {},
     "output_type": "display_data"
    },
    {
     "data": {
      "application/vnd.jupyter.widget-view+json": {
       "model_id": "3db4b2906a1144038226a27269abe57b",
       "version_major": 2,
       "version_minor": 0
      },
      "text/plain": [
       "  0%|          | 0/7792 [00:00<?, ?it/s]"
      ]
     },
     "metadata": {},
     "output_type": "display_data"
    },
    {
     "name": "stderr",
     "output_type": "stream",
     "text": [
      "wandb: ERROR Metric data exceeds maximum size of 10.4MB (13.4MB)\n",
      "wandb: Network error (ConnectionError), entering retry loop.\n"
     ]
    },
    {
     "name": "stdout",
     "output_type": "stream",
     "text": [
      "Epoch: 28 , Running loss: 0.13558644746739842\n",
      "Validating the model\n"
     ]
    },
    {
     "data": {
      "application/vnd.jupyter.widget-view+json": {
       "model_id": "d66b25c2a86b46e5b718addd97c08b18",
       "version_major": 2,
       "version_minor": 0
      },
      "text/plain": [
       "  0%|          | 0/834 [00:00<?, ?it/s]"
      ]
     },
     "metadata": {},
     "output_type": "display_data"
    },
    {
     "name": "stdout",
     "output_type": "stream",
     "text": [
      "Validation loss:  6.21419140848305\n",
      "Running epoch: 29\n"
     ]
    },
    {
     "data": {
      "text/html": [
       " Batch loss :0.12123727053403854\n",
       "      <progress    \n",
       "value='7791'max='7793.166666666667',style='width: 100%'>7791\n",
       "      </progress>\n",
       "             "
      ],
      "text/plain": [
       "<IPython.core.display.HTML object>"
      ]
     },
     "metadata": {},
     "output_type": "display_data"
    },
    {
     "data": {
      "application/vnd.jupyter.widget-view+json": {
       "model_id": "d926c3fff46b42948369558cdefb2e76",
       "version_major": 2,
       "version_minor": 0
      },
      "text/plain": [
       "  0%|          | 0/7792 [00:00<?, ?it/s]"
      ]
     },
     "metadata": {},
     "output_type": "display_data"
    },
    {
     "name": "stderr",
     "output_type": "stream",
     "text": [
      "wandb: ERROR Metric data exceeds maximum size of 10.4MB (14.0MB)\n"
     ]
    },
    {
     "name": "stdout",
     "output_type": "stream",
     "text": [
      "Epoch: 29 , Running loss: 0.12971486735660084\n",
      "Validating the model\n"
     ]
    },
    {
     "data": {
      "application/vnd.jupyter.widget-view+json": {
       "model_id": "a4cd4cb81aa04edd96a8ba7d25e79cdd",
       "version_major": 2,
       "version_minor": 0
      },
      "text/plain": [
       "  0%|          | 0/834 [00:00<?, ?it/s]"
      ]
     },
     "metadata": {},
     "output_type": "display_data"
    },
    {
     "name": "stdout",
     "output_type": "stream",
     "text": [
      "Validation loss:  6.199329588783223\n",
      "Running epoch: 30\n"
     ]
    },
    {
     "data": {
      "text/html": [
       " Batch loss :0.10324472188949585\n",
       "      <progress    \n",
       "value='7791'max='7793.166666666667',style='width: 100%'>7791\n",
       "      </progress>\n",
       "             "
      ],
      "text/plain": [
       "<IPython.core.display.HTML object>"
      ]
     },
     "metadata": {},
     "output_type": "display_data"
    },
    {
     "data": {
      "application/vnd.jupyter.widget-view+json": {
       "model_id": "c9018b5c53004d6ca34923492374cf3f",
       "version_major": 2,
       "version_minor": 0
      },
      "text/plain": [
       "  0%|          | 0/7792 [00:00<?, ?it/s]"
      ]
     },
     "metadata": {},
     "output_type": "display_data"
    },
    {
     "name": "stderr",
     "output_type": "stream",
     "text": [
      "wandb: ERROR Metric data exceeds maximum size of 10.4MB (14.5MB)\n"
     ]
    },
    {
     "name": "stdout",
     "output_type": "stream",
     "text": [
      "Epoch: 30 , Running loss: 0.12428539507656837\n",
      "Validating the model\n"
     ]
    },
    {
     "data": {
      "application/vnd.jupyter.widget-view+json": {
       "model_id": "a914d31be5ee42848bcefe7d6d6544ec",
       "version_major": 2,
       "version_minor": 0
      },
      "text/plain": [
       "  0%|          | 0/834 [00:00<?, ?it/s]"
      ]
     },
     "metadata": {},
     "output_type": "display_data"
    },
    {
     "name": "stdout",
     "output_type": "stream",
     "text": [
      "Validation loss:  6.226001144241187\n"
     ]
    },
    {
     "name": "stderr",
     "output_type": "stream",
     "text": [
      "wandb: ERROR Metric data exceeds maximum size of 10.4MB (15.0MB)\n"
     ]
    }
   ],
   "source": [
    "#from os import truncate\n",
    "model.train()\n",
    "\n",
    "loss_per_10_steps=[]\n",
    "num_of_epochs=30\n",
    "for epoch in range(epoch,num_of_epochs+1):\n",
    "  print('Running epoch: {}'.format(epoch))\n",
    "  \n",
    "  running_loss=0\n",
    "\n",
    "  out = display(progress(1, num_of_batches+1), display_id=True)\n",
    "  for i in tqdm_notebook(range(int(num_of_batches))):\n",
    "    inputbatch=[]\n",
    "    labelbatch=[]\n",
    "    new_df=train_df[i*batch_size:i*batch_size+batch_size]\n",
    "    for indx,row in new_df.iterrows():\n",
    "      input = 'LFQA: '+row['input']+'</s>' \n",
    "      labels = row['Answer']+'</s>'   \n",
    "      inputbatch.append(input)\n",
    "      labelbatch.append(labels)\n",
    "      torch.cuda.empty_cache()\n",
    "    inputbatch=tokenizer.batch_encode_plus(inputbatch,truncation=True,padding=True,max_length=512,return_tensors='pt')[\"input_ids\"]\n",
    "    labelbatch=tokenizer.batch_encode_plus(labelbatch,truncation = True,padding=True,max_length=512,return_tensors=\"pt\") [\"input_ids\"]\n",
    "    inputbatch=inputbatch.to(dev)\n",
    "    labelbatch=labelbatch.to(dev)\n",
    "\n",
    "    # clear out the gradients of all Variables \n",
    "    optimizer.zero_grad()\n",
    "\n",
    "    # Forward propogation\n",
    "    outputs = model(input_ids=inputbatch, labels=labelbatch)\n",
    "    loss = outputs.loss\n",
    "    loss_num=loss.item()\n",
    "    logits = outputs.logits\n",
    "    running_loss+=loss_num\n",
    "    out.update(progress(loss_num,i, num_of_batches+1))\n",
    "\n",
    "    # calculating the gradients\n",
    "    loss.backward()\n",
    "\n",
    "    #updating the params\n",
    "    optimizer.step()\n",
    "    #torch.empty_cache()\n",
    "    gc.collect()\n",
    "  running_loss=running_loss/int(num_of_batches)\n",
    "  print('Epoch: {} , Running loss: {}'.format(epoch,running_loss))\n",
    "  #wandb.log({\"Training loss\": running_loss})\n",
    "  wandb.watch(model)\n",
    "  model.save_pretrained('Custom_Tokenizer/T5forQAS'+str(epoch))\n",
    "  model_validation(model, epoch, running_loss)"
   ]
  },
  {
   "cell_type": "code",
   "execution_count": null,
   "metadata": {},
   "outputs": [],
   "source": [
    "model"
   ]
  },
  {
   "cell_type": "code",
   "execution_count": null,
   "metadata": {},
   "outputs": [],
   "source": [
    "#from os import truncate\n",
    "model.train()\n",
    "\n",
    "loss_per_10_steps=[]\n",
    "num_of_epochs=40\n",
    "for epoch in range(epoch,num_of_epochs+1):\n",
    "  print('Running epoch: {}'.format(epoch))\n",
    "  \n",
    "  running_loss=0\n",
    "\n",
    "  out = display(progress(1, num_of_batches+1), display_id=True)\n",
    "  for i in tqdm_notebook(range(int(num_of_batches))):\n",
    "    inputbatch=[]\n",
    "    labelbatch=[]\n",
    "    new_df=train_df[i*batch_size:i*batch_size+batch_size]\n",
    "    for indx,row in new_df.iterrows():\n",
    "      input = 'LFQA: '+row['input']+'</s>' \n",
    "      labels = row['Answer']+'</s>'   \n",
    "      inputbatch.append(input)\n",
    "      labelbatch.append(labels)\n",
    "      torch.cuda.empty_cache()\n",
    "    inputbatch=tokenizer.batch_encode_plus(inputbatch,truncation=True,padding=True,max_length=512,return_tensors='pt')[\"input_ids\"]\n",
    "    labelbatch=tokenizer.batch_encode_plus(labelbatch,truncation = True,padding=True,max_length=512,return_tensors=\"pt\") [\"input_ids\"]\n",
    "    inputbatch=inputbatch.to(dev)\n",
    "    labelbatch=labelbatch.to(dev)\n",
    "\n",
    "    # clear out the gradients of all Variables \n",
    "    optimizer.zero_grad()\n",
    "\n",
    "    # Forward propogation\n",
    "    outputs = model(input_ids=inputbatch, labels=labelbatch)\n",
    "    loss = outputs.loss\n",
    "    loss_num=loss.item()\n",
    "    logits = outputs.logits\n",
    "    running_loss+=loss_num\n",
    "    out.update(progress(loss_num,i, num_of_batches+1))\n",
    "\n",
    "    # calculating the gradients\n",
    "    loss.backward()\n",
    "\n",
    "    #updating the params\n",
    "    optimizer.step()\n",
    "    #torch.empty_cache()\n",
    "    gc.collect()\n",
    "  running_loss=running_loss/int(num_of_batches)\n",
    "  print('Epoch: {} , Running loss: {}'.format(epoch,running_loss))\n",
    "  wandb.log({\"Training loss\": running_loss})\n",
    "  wandb.watch(model)\n",
    "  model.save_pretrained('T5forQASbase'+str(epoch))\n",
    "  model_validation(model, epoch, running_loss)"
   ]
  },
  {
   "cell_type": "code",
   "execution_count": null,
   "metadata": {},
   "outputs": [],
   "source": [
    "model_validation(model, epoch, 2.58471687418077)"
   ]
  },
  {
   "cell_type": "code",
   "execution_count": null,
   "metadata": {},
   "outputs": [],
   "source": [
    "from rouge import Rouge"
   ]
  },
  {
   "cell_type": "code",
   "execution_count": null,
   "metadata": {},
   "outputs": [],
   "source": [
    "rouge = Rouge()"
   ]
  },
  {
   "cell_type": "code",
   "execution_count": null,
   "metadata": {},
   "outputs": [],
   "source": [
    "def model_validation(model,epoch, running_loss):\n",
    "    model.eval()\n",
    "    bs = 32\n",
    "    test_num_of_batches=len(test)/bs\n",
    "    predictions = []\n",
    "    torch.cuda.empty_cache()\n",
    "    gc.collect()\n",
    "    print(\"Validating the model\")\n",
    "    for i in tqdm_notebook(range(int(test_num_of_batches))):\n",
    "        ib=[]\n",
    "        lb = []\n",
    "        new_df=test[i*bs:i*bs+bs]\n",
    "        for indx,row in new_df.iterrows():\n",
    "          input =row['input']\n",
    "          ib.append(input)\n",
    "          lb.append(row['Answer'])\n",
    "          torch.cuda.empty_cache()\n",
    "        ib=tokenizer.batch_encode_plus(ib,truncation=True,padding=True,max_length=512,return_tensors='pt')[\"input_ids\"].to(dev)\n",
    "        outputs = model.generate(ib, do_sample=False,max_length=512,\n",
    "                            min_length=50,num_return_sequences=1)\n",
    "        preds = tokenizer.batch_decode(outputs, skip_special_tokens=True)\n",
    "        for p in preds:\n",
    "            predictions.append(p)\n",
    "        torch.cuda.empty_cache()\n",
    "        gc.collect()\n",
    "    #rouge = evaluate.load('rouge')\n",
    "    print(len(predictions))\n",
    "    references = list(test['Answer'][:len(predictions)])\n",
    "    new_ref = []\n",
    "    new_pred = []\n",
    "    for i in range(len(test['Answer'][:len(predictions)])):\n",
    "        if(len(test['Answer'][i]) != 0):\n",
    "            new_ref.append(test['Answer'][i])\n",
    "            new_pred.append(predictions[i])\n",
    "    print(len(new_ref))\n",
    "    print(len(new_pred))\n",
    "    results = rouge.get_scores(new_pred,new_ref, avg=True)\n",
    "    print(results)\n",
    "#     m_p_r1 = 0\n",
    "#     m_r_r1 = 0\n",
    "#     result_row = []\n",
    "#     result_row.append(running_loss)\n",
    "#     result_row.append(epoch)\n",
    "#     for k in results.keys():\n",
    "#         p=[]\n",
    "#         r=[]\n",
    "#         f=[]\n",
    "#         for a in range(len(results[k])):\n",
    "#             p.append(results[k][a][0])\n",
    "#             r.append(results[k][a][1])\n",
    "#             f.append(results[k][a][2])\n",
    "#         m_p_r1 = sum(p)/len(p)\n",
    "#         m_r_r1 = sum(r)/len(r)\n",
    "#         m_f_r1 = sum(f)/len(f)\n",
    "#         print(m_p_r1, '-------',m_r_r1,'-------',m_f_r1)\n",
    "#         result_row.append(m_p_r1)\n",
    "#         result_row.append(m_r_r1)\n",
    "#         result_row.append(m_f_r1)\n",
    "#     result_df.loc[len(result_df)]=result_row[:11]\n",
    "#     result_df.to_csv(\"T5result.csv\")"
   ]
  },
  {
   "cell_type": "code",
   "execution_count": null,
   "metadata": {},
   "outputs": [],
   "source": [
    "new_ref = []\n",
    "new_pred = []\n",
    "for i in range(len(test['Answer'])):\n",
    "    if(len(test['Answer'][i]) != 0):\n",
    "        new_ref.append(test['Answer'][i])\n",
    "        new_pred.append(predictions[i])"
   ]
  },
  {
   "cell_type": "markdown",
   "metadata": {},
   "source": [
    "### Results after 4 epochs\n",
    "                        Precision                   Recall                       F1\n",
    "    Rouge1:      0.4980928630793733 ------- 0.13011565464471825 ------- 0.1649583209910756\n",
    "    Rouge2:      0.21678062791504746 ------- 0.06789696353215356 ------- 0.08347085728346133\n",
    "    RougeL:      0.42345051832613684 ------- 0.11469741656509573 ------- 0.14313986850382462\n",
    "    RougeLsum:   0.42345051832613684 ------- 0.11469741656509573 ------- 0.14313986850382462\n",
    "    \n",
    "    Running Loss at 5 epochs: 1.22\n",
    "    \n",
    "### Results after 10 epochs\n",
    "\n",
    "                     Precision                   Recall                       F1\n",
    "    Rouge1:      0.38907256490037506 ------- 0.20799839653432498 ------- 0.20409757332408776\n",
    "    Rouge2:      0.1330397499564915 ------- 0.08199202715107086 ------- 0.07403134869539121\n",
    "    RougeL:      0.29096532928037117 ------- 0.1632024864354101 ------- 0.1549482945224556\n",
    "    RougeLsum:   0.29096532928037117 ------- 0.1632024864354101 ------- 0.1549482945224556\n",
    "    \n",
    "    Running Loss at 5 epochs: 0.965\n",
    "    \n",
    "### Results after 19 epochs\n",
    "\n",
    "                   Precision                   Recall                       F1\n",
    "    Rouge1:      0.39236778993746196 ------- 0.2466480379654679 ------- 0.23611925653365817\n",
    "    Rouge2:      0.13701988445759425 ------- 0.09518066010175917 ------- 0.08576509087949875\n",
    "    RougeL:      0.2764487873346976 ------- 0.1822455615208833 ------- 0.1686459668576014\n",
    "    RougeLsum:   0.2764487873346976 ------- 0.1822455615208833 ------- 0.1686459668576014\n",
    "    \n",
    "    Running Loss at 5 epochs: 0.737\n",
    "    \n",
    " ### Results after 30 epochs\n",
    " \n",
    "                 Precision                   Recall                       F1\n",
    "    Rouge1:      0.39773214385507505 ------- 0.20768996571589074 ------- 0.20621252890017672\n",
    "    Rouge2:      0.12562862373620837 ------- 0.08111509973311858 ------- 0.07048492927928829\n",
    "    RougeL:      0.2855979383154639 ------- 0.15646543259919732 ------- 0.14925823758712192\n",
    "    RougeLsum:   0.2855979383154639 ------- 0.15646543259919732 ------- 0.14925823758712192\n",
    "    \n",
    "    Running Loss at 5 epochs: 0.51\n",
    "    \n",
    "    \n",
    "### Results after 40 epochs\n",
    "   \n",
    "                  Precision                   Recall                       F1\n",
    "    Rouge1:      0.28412939310936774 ------- 0.29322542427722015 ------- 0.25636404308564037\n",
    "    Rouge2:      0.07850300360333388 ------- 0.09968486634318151 ------- 0.07341643688326621\n",
    "    RougeL:      0.19592878386406765 ------- 0.210215201335104 ------- 0.1770061998477224\n",
    "    RougeLsum:   0.19592878386406765 ------- 0.210215201335104 ------- 0.1770061998477224\n",
    "    \n",
    "    Running Loss at 5 epochs: 0.362\n"
   ]
  },
  {
   "cell_type": "code",
   "execution_count": null,
   "metadata": {},
   "outputs": [],
   "source": [
    "model"
   ]
  },
  {
   "cell_type": "code",
   "execution_count": null,
   "metadata": {},
   "outputs": [],
   "source": []
  }
 ],
 "metadata": {
  "accelerator": "GPU",
  "colab": {
   "authorship_tag": "ABX9TyMQvvBb1lLDj5Hn6+vkPJrS",
   "collapsed_sections": [],
   "mount_file_id": "1qYq75xNdAPv7OBb2RBiRcG43KrCjdNC9",
   "name": "Copy of Finetuning using HF.ipynb",
   "provenance": [
    {
     "file_id": "1emOV5-r3VG7POoNMbU7G5qU85Ns6pjm_",
     "timestamp": 1656313779627
    }
   ]
  },
  "gpuClass": "standard",
  "kernelspec": {
   "display_name": "Python 3 (ipykernel)",
   "language": "python",
   "name": "python3"
  },
  "language_info": {
   "codemirror_mode": {
    "name": "ipython",
    "version": 3
   },
   "file_extension": ".py",
   "mimetype": "text/x-python",
   "name": "python",
   "nbconvert_exporter": "python",
   "pygments_lexer": "ipython3",
   "version": "3.7.13"
  },
  "widgets": {
   "application/vnd.jupyter.widget-state+json": {
    "02e2f2991a6f4de9a2c958e299587558": {
     "model_module": "@jupyter-widgets/controls",
     "model_module_version": "1.5.0",
     "model_name": "HTMLModel",
     "state": {
      "_dom_classes": [],
      "_model_module": "@jupyter-widgets/controls",
      "_model_module_version": "1.5.0",
      "_model_name": "HTMLModel",
      "_view_count": null,
      "_view_module": "@jupyter-widgets/controls",
      "_view_module_version": "1.5.0",
      "_view_name": "HTMLView",
      "description": "",
      "description_tooltip": null,
      "layout": "IPY_MODEL_219080281ff5463887b26d830b68d721",
      "placeholder": "​",
      "style": "IPY_MODEL_8df9fe9265554eb2bf76f052669b2003",
      "value": "Downloading: 100%"
     }
    },
    "0317fe8b39c3451cb29253e151ee8d61": {
     "model_module": "@jupyter-widgets/controls",
     "model_module_version": "1.5.0",
     "model_name": "DescriptionStyleModel",
     "state": {
      "_model_module": "@jupyter-widgets/controls",
      "_model_module_version": "1.5.0",
      "_model_name": "DescriptionStyleModel",
      "_view_count": null,
      "_view_module": "@jupyter-widgets/base",
      "_view_module_version": "1.2.0",
      "_view_name": "StyleView",
      "description_width": ""
     }
    },
    "03954632f43e41f2be3791f61f9613da": {
     "model_module": "@jupyter-widgets/base",
     "model_module_version": "1.2.0",
     "model_name": "LayoutModel",
     "state": {
      "_model_module": "@jupyter-widgets/base",
      "_model_module_version": "1.2.0",
      "_model_name": "LayoutModel",
      "_view_count": null,
      "_view_module": "@jupyter-widgets/base",
      "_view_module_version": "1.2.0",
      "_view_name": "LayoutView",
      "align_content": null,
      "align_items": null,
      "align_self": null,
      "border": null,
      "bottom": null,
      "display": null,
      "flex": null,
      "flex_flow": null,
      "grid_area": null,
      "grid_auto_columns": null,
      "grid_auto_flow": null,
      "grid_auto_rows": null,
      "grid_column": null,
      "grid_gap": null,
      "grid_row": null,
      "grid_template_areas": null,
      "grid_template_columns": null,
      "grid_template_rows": null,
      "height": null,
      "justify_content": null,
      "justify_items": null,
      "left": null,
      "margin": null,
      "max_height": null,
      "max_width": null,
      "min_height": null,
      "min_width": null,
      "object_fit": null,
      "object_position": null,
      "order": null,
      "overflow": null,
      "overflow_x": null,
      "overflow_y": null,
      "padding": null,
      "right": null,
      "top": null,
      "visibility": null,
      "width": null
     }
    },
    "0926f741df0f4aaf92a6303f99f090fc": {
     "model_module": "@jupyter-widgets/controls",
     "model_module_version": "1.5.0",
     "model_name": "FloatProgressModel",
     "state": {
      "_dom_classes": [],
      "_model_module": "@jupyter-widgets/controls",
      "_model_module_version": "1.5.0",
      "_model_name": "FloatProgressModel",
      "_view_count": null,
      "_view_module": "@jupyter-widgets/controls",
      "_view_module_version": "1.5.0",
      "_view_name": "ProgressView",
      "bar_style": "success",
      "description": "",
      "description_tooltip": null,
      "layout": "IPY_MODEL_be5d6d7763c04d8bbc77f79926afb623",
      "max": 791656,
      "min": 0,
      "orientation": "horizontal",
      "style": "IPY_MODEL_8b3fd877ff8f42488eedabee60a421e7",
      "value": 791656
     }
    },
    "093eeb467a8849659df300f1b3709f23": {
     "model_module": "@jupyter-widgets/base",
     "model_module_version": "1.2.0",
     "model_name": "LayoutModel",
     "state": {
      "_model_module": "@jupyter-widgets/base",
      "_model_module_version": "1.2.0",
      "_model_name": "LayoutModel",
      "_view_count": null,
      "_view_module": "@jupyter-widgets/base",
      "_view_module_version": "1.2.0",
      "_view_name": "LayoutView",
      "align_content": null,
      "align_items": null,
      "align_self": null,
      "border": null,
      "bottom": null,
      "display": null,
      "flex": null,
      "flex_flow": null,
      "grid_area": null,
      "grid_auto_columns": null,
      "grid_auto_flow": null,
      "grid_auto_rows": null,
      "grid_column": null,
      "grid_gap": null,
      "grid_row": null,
      "grid_template_areas": null,
      "grid_template_columns": null,
      "grid_template_rows": null,
      "height": null,
      "justify_content": null,
      "justify_items": null,
      "left": null,
      "margin": null,
      "max_height": null,
      "max_width": null,
      "min_height": null,
      "min_width": null,
      "object_fit": null,
      "object_position": null,
      "order": null,
      "overflow": null,
      "overflow_x": null,
      "overflow_y": null,
      "padding": null,
      "right": null,
      "top": null,
      "visibility": null,
      "width": null
     }
    },
    "1ca9f9ecb11b43b191f2d03a9aac949f": {
     "model_module": "@jupyter-widgets/base",
     "model_module_version": "1.2.0",
     "model_name": "LayoutModel",
     "state": {
      "_model_module": "@jupyter-widgets/base",
      "_model_module_version": "1.2.0",
      "_model_name": "LayoutModel",
      "_view_count": null,
      "_view_module": "@jupyter-widgets/base",
      "_view_module_version": "1.2.0",
      "_view_name": "LayoutView",
      "align_content": null,
      "align_items": null,
      "align_self": null,
      "border": null,
      "bottom": null,
      "display": null,
      "flex": null,
      "flex_flow": null,
      "grid_area": null,
      "grid_auto_columns": null,
      "grid_auto_flow": null,
      "grid_auto_rows": null,
      "grid_column": null,
      "grid_gap": null,
      "grid_row": null,
      "grid_template_areas": null,
      "grid_template_columns": null,
      "grid_template_rows": null,
      "height": null,
      "justify_content": null,
      "justify_items": null,
      "left": null,
      "margin": null,
      "max_height": null,
      "max_width": null,
      "min_height": null,
      "min_width": null,
      "object_fit": null,
      "object_position": null,
      "order": null,
      "overflow": null,
      "overflow_x": null,
      "overflow_y": null,
      "padding": null,
      "right": null,
      "top": null,
      "visibility": null,
      "width": null
     }
    },
    "219080281ff5463887b26d830b68d721": {
     "model_module": "@jupyter-widgets/base",
     "model_module_version": "1.2.0",
     "model_name": "LayoutModel",
     "state": {
      "_model_module": "@jupyter-widgets/base",
      "_model_module_version": "1.2.0",
      "_model_name": "LayoutModel",
      "_view_count": null,
      "_view_module": "@jupyter-widgets/base",
      "_view_module_version": "1.2.0",
      "_view_name": "LayoutView",
      "align_content": null,
      "align_items": null,
      "align_self": null,
      "border": null,
      "bottom": null,
      "display": null,
      "flex": null,
      "flex_flow": null,
      "grid_area": null,
      "grid_auto_columns": null,
      "grid_auto_flow": null,
      "grid_auto_rows": null,
      "grid_column": null,
      "grid_gap": null,
      "grid_row": null,
      "grid_template_areas": null,
      "grid_template_columns": null,
      "grid_template_rows": null,
      "height": null,
      "justify_content": null,
      "justify_items": null,
      "left": null,
      "margin": null,
      "max_height": null,
      "max_width": null,
      "min_height": null,
      "min_width": null,
      "object_fit": null,
      "object_position": null,
      "order": null,
      "overflow": null,
      "overflow_x": null,
      "overflow_y": null,
      "padding": null,
      "right": null,
      "top": null,
      "visibility": null,
      "width": null
     }
    },
    "244ec8506c74427395657e3e9e0a3220": {
     "model_module": "@jupyter-widgets/base",
     "model_module_version": "1.2.0",
     "model_name": "LayoutModel",
     "state": {
      "_model_module": "@jupyter-widgets/base",
      "_model_module_version": "1.2.0",
      "_model_name": "LayoutModel",
      "_view_count": null,
      "_view_module": "@jupyter-widgets/base",
      "_view_module_version": "1.2.0",
      "_view_name": "LayoutView",
      "align_content": null,
      "align_items": null,
      "align_self": null,
      "border": null,
      "bottom": null,
      "display": null,
      "flex": null,
      "flex_flow": null,
      "grid_area": null,
      "grid_auto_columns": null,
      "grid_auto_flow": null,
      "grid_auto_rows": null,
      "grid_column": null,
      "grid_gap": null,
      "grid_row": null,
      "grid_template_areas": null,
      "grid_template_columns": null,
      "grid_template_rows": null,
      "height": null,
      "justify_content": null,
      "justify_items": null,
      "left": null,
      "margin": null,
      "max_height": null,
      "max_width": null,
      "min_height": null,
      "min_width": null,
      "object_fit": null,
      "object_position": null,
      "order": null,
      "overflow": null,
      "overflow_x": null,
      "overflow_y": null,
      "padding": null,
      "right": null,
      "top": null,
      "visibility": null,
      "width": null
     }
    },
    "2565720317a64d7cb8e8fc586a2aaee5": {
     "model_module": "@jupyter-widgets/controls",
     "model_module_version": "1.5.0",
     "model_name": "HBoxModel",
     "state": {
      "_dom_classes": [],
      "_model_module": "@jupyter-widgets/controls",
      "_model_module_version": "1.5.0",
      "_model_name": "HBoxModel",
      "_view_count": null,
      "_view_module": "@jupyter-widgets/controls",
      "_view_module_version": "1.5.0",
      "_view_name": "HBoxView",
      "box_style": "",
      "children": [
       "IPY_MODEL_419c3eb5ca6b495ba190b648a9d9ddc6",
       "IPY_MODEL_0926f741df0f4aaf92a6303f99f090fc",
       "IPY_MODEL_403e0a6a4b844090bbb56f1b290aee8b"
      ],
      "layout": "IPY_MODEL_fbcebd3ccbc34f38984f5d7832b60878"
     }
    },
    "259b5455df5a4f4ea917df7956b4d04c": {
     "model_module": "@jupyter-widgets/controls",
     "model_module_version": "1.5.0",
     "model_name": "DescriptionStyleModel",
     "state": {
      "_model_module": "@jupyter-widgets/controls",
      "_model_module_version": "1.5.0",
      "_model_name": "DescriptionStyleModel",
      "_view_count": null,
      "_view_module": "@jupyter-widgets/base",
      "_view_module_version": "1.2.0",
      "_view_name": "StyleView",
      "description_width": ""
     }
    },
    "2c8009d89b9e4e09aaace7137663f9c2": {
     "model_module": "@jupyter-widgets/controls",
     "model_module_version": "1.5.0",
     "model_name": "HTMLModel",
     "state": {
      "_dom_classes": [],
      "_model_module": "@jupyter-widgets/controls",
      "_model_module_version": "1.5.0",
      "_model_name": "HTMLModel",
      "_view_count": null,
      "_view_module": "@jupyter-widgets/controls",
      "_view_module_version": "1.5.0",
      "_view_name": "HTMLView",
      "description": "",
      "description_tooltip": null,
      "layout": "IPY_MODEL_3a682643c4a140b18458ccd2754ef3d5",
      "placeholder": "​",
      "style": "IPY_MODEL_8dac6d7e8b5048d6a8d02f2eef25f909",
      "value": "Downloading: 100%"
     }
    },
    "34ef5d662784417fa86bc74736b1fc9f": {
     "model_module": "@jupyter-widgets/controls",
     "model_module_version": "1.5.0",
     "model_name": "HBoxModel",
     "state": {
      "_dom_classes": [],
      "_model_module": "@jupyter-widgets/controls",
      "_model_module_version": "1.5.0",
      "_model_name": "HBoxModel",
      "_view_count": null,
      "_view_module": "@jupyter-widgets/controls",
      "_view_module_version": "1.5.0",
      "_view_name": "HBoxView",
      "box_style": "",
      "children": [
       "IPY_MODEL_02e2f2991a6f4de9a2c958e299587558",
       "IPY_MODEL_45ea49ecf1d543d88f1d46fb96ce7da8",
       "IPY_MODEL_a7729b5192cc4d909e2481bb1d961883"
      ],
      "layout": "IPY_MODEL_80d537ed2bc74395bccb80405f2ce436"
     }
    },
    "36aeb3f0f47d4a379e8893e76b766d6e": {
     "model_module": "@jupyter-widgets/controls",
     "model_module_version": "1.5.0",
     "model_name": "DescriptionStyleModel",
     "state": {
      "_model_module": "@jupyter-widgets/controls",
      "_model_module_version": "1.5.0",
      "_model_name": "DescriptionStyleModel",
      "_view_count": null,
      "_view_module": "@jupyter-widgets/base",
      "_view_module_version": "1.2.0",
      "_view_name": "StyleView",
      "description_width": ""
     }
    },
    "36d205d03af64b2782827932e4fc84f8": {
     "model_module": "@jupyter-widgets/controls",
     "model_module_version": "1.5.0",
     "model_name": "HBoxModel",
     "state": {
      "_dom_classes": [],
      "_model_module": "@jupyter-widgets/controls",
      "_model_module_version": "1.5.0",
      "_model_name": "HBoxModel",
      "_view_count": null,
      "_view_module": "@jupyter-widgets/controls",
      "_view_module_version": "1.5.0",
      "_view_name": "HBoxView",
      "box_style": "",
      "children": [
       "IPY_MODEL_2c8009d89b9e4e09aaace7137663f9c2",
       "IPY_MODEL_af236dc91674432bb7acdc1b1948a2fb",
       "IPY_MODEL_ac2a8c23ed864097a66f408ba1a189c3"
      ],
      "layout": "IPY_MODEL_5506ec4974d544d28c0fbe54950873a5"
     }
    },
    "3790ac631b584760bce74e4aadc8adfa": {
     "model_module": "@jupyter-widgets/controls",
     "model_module_version": "1.5.0",
     "model_name": "DescriptionStyleModel",
     "state": {
      "_model_module": "@jupyter-widgets/controls",
      "_model_module_version": "1.5.0",
      "_model_name": "DescriptionStyleModel",
      "_view_count": null,
      "_view_module": "@jupyter-widgets/base",
      "_view_module_version": "1.2.0",
      "_view_name": "StyleView",
      "description_width": ""
     }
    },
    "3a682643c4a140b18458ccd2754ef3d5": {
     "model_module": "@jupyter-widgets/base",
     "model_module_version": "1.2.0",
     "model_name": "LayoutModel",
     "state": {
      "_model_module": "@jupyter-widgets/base",
      "_model_module_version": "1.2.0",
      "_model_name": "LayoutModel",
      "_view_count": null,
      "_view_module": "@jupyter-widgets/base",
      "_view_module_version": "1.2.0",
      "_view_name": "LayoutView",
      "align_content": null,
      "align_items": null,
      "align_self": null,
      "border": null,
      "bottom": null,
      "display": null,
      "flex": null,
      "flex_flow": null,
      "grid_area": null,
      "grid_auto_columns": null,
      "grid_auto_flow": null,
      "grid_auto_rows": null,
      "grid_column": null,
      "grid_gap": null,
      "grid_row": null,
      "grid_template_areas": null,
      "grid_template_columns": null,
      "grid_template_rows": null,
      "height": null,
      "justify_content": null,
      "justify_items": null,
      "left": null,
      "margin": null,
      "max_height": null,
      "max_width": null,
      "min_height": null,
      "min_width": null,
      "object_fit": null,
      "object_position": null,
      "order": null,
      "overflow": null,
      "overflow_x": null,
      "overflow_y": null,
      "padding": null,
      "right": null,
      "top": null,
      "visibility": null,
      "width": null
     }
    },
    "3bfeac2e66ff47d89587d28589369d7e": {
     "model_module": "@jupyter-widgets/controls",
     "model_module_version": "1.5.0",
     "model_name": "HBoxModel",
     "state": {
      "_dom_classes": [],
      "_model_module": "@jupyter-widgets/controls",
      "_model_module_version": "1.5.0",
      "_model_name": "HBoxModel",
      "_view_count": null,
      "_view_module": "@jupyter-widgets/controls",
      "_view_module_version": "1.5.0",
      "_view_name": "HBoxView",
      "box_style": "",
      "children": [
       "IPY_MODEL_eee1c2a4e9b4488488ef888472fbf7de",
       "IPY_MODEL_d425b86ff0ce41ad86f51807fc0fc9dd",
       "IPY_MODEL_59f181713e5a44348981d52e05e2440d"
      ],
      "layout": "IPY_MODEL_f6575bd13d1447c58fd163747ff5ef2f"
     }
    },
    "403e0a6a4b844090bbb56f1b290aee8b": {
     "model_module": "@jupyter-widgets/controls",
     "model_module_version": "1.5.0",
     "model_name": "HTMLModel",
     "state": {
      "_dom_classes": [],
      "_model_module": "@jupyter-widgets/controls",
      "_model_module_version": "1.5.0",
      "_model_name": "HTMLModel",
      "_view_count": null,
      "_view_module": "@jupyter-widgets/controls",
      "_view_module_version": "1.5.0",
      "_view_name": "HTMLView",
      "description": "",
      "description_tooltip": null,
      "layout": "IPY_MODEL_244ec8506c74427395657e3e9e0a3220",
      "placeholder": "​",
      "style": "IPY_MODEL_36aeb3f0f47d4a379e8893e76b766d6e",
      "value": " 773k/773k [00:01&lt;00:00, 829kB/s]"
     }
    },
    "419c3eb5ca6b495ba190b648a9d9ddc6": {
     "model_module": "@jupyter-widgets/controls",
     "model_module_version": "1.5.0",
     "model_name": "HTMLModel",
     "state": {
      "_dom_classes": [],
      "_model_module": "@jupyter-widgets/controls",
      "_model_module_version": "1.5.0",
      "_model_name": "HTMLModel",
      "_view_count": null,
      "_view_module": "@jupyter-widgets/controls",
      "_view_module_version": "1.5.0",
      "_view_name": "HTMLView",
      "description": "",
      "description_tooltip": null,
      "layout": "IPY_MODEL_dd4a672f6c174a4eb26aee9dbedb4a84",
      "placeholder": "​",
      "style": "IPY_MODEL_3790ac631b584760bce74e4aadc8adfa",
      "value": "Downloading: 100%"
     }
    },
    "445468a87c4b4bac8541acf841df4bdb": {
     "model_module": "@jupyter-widgets/controls",
     "model_module_version": "1.5.0",
     "model_name": "FloatProgressModel",
     "state": {
      "_dom_classes": [],
      "_model_module": "@jupyter-widgets/controls",
      "_model_module_version": "1.5.0",
      "_model_name": "FloatProgressModel",
      "_view_count": null,
      "_view_module": "@jupyter-widgets/controls",
      "_view_module_version": "1.5.0",
      "_view_name": "ProgressView",
      "bar_style": "success",
      "description": "",
      "description_tooltip": null,
      "layout": "IPY_MODEL_e369077b6127433383b80992dc2bd0e0",
      "max": 1389353,
      "min": 0,
      "orientation": "horizontal",
      "style": "IPY_MODEL_a26b452422334246af086319bc2db26a",
      "value": 1389353
     }
    },
    "45ea49ecf1d543d88f1d46fb96ce7da8": {
     "model_module": "@jupyter-widgets/controls",
     "model_module_version": "1.5.0",
     "model_name": "FloatProgressModel",
     "state": {
      "_dom_classes": [],
      "_model_module": "@jupyter-widgets/controls",
      "_model_module_version": "1.5.0",
      "_model_name": "FloatProgressModel",
      "_view_count": null,
      "_view_module": "@jupyter-widgets/controls",
      "_view_module_version": "1.5.0",
      "_view_name": "ProgressView",
      "bar_style": "success",
      "description": "",
      "description_tooltip": null,
      "layout": "IPY_MODEL_093eeb467a8849659df300f1b3709f23",
      "max": 1199,
      "min": 0,
      "orientation": "horizontal",
      "style": "IPY_MODEL_be1711996f064662a300962a29aec0f2",
      "value": 1199
     }
    },
    "48e54598de614dedb1f98558dd869beb": {
     "model_module": "@jupyter-widgets/controls",
     "model_module_version": "1.5.0",
     "model_name": "HTMLModel",
     "state": {
      "_dom_classes": [],
      "_model_module": "@jupyter-widgets/controls",
      "_model_module_version": "1.5.0",
      "_model_name": "HTMLModel",
      "_view_count": null,
      "_view_module": "@jupyter-widgets/controls",
      "_view_module_version": "1.5.0",
      "_view_name": "HTMLView",
      "description": "",
      "description_tooltip": null,
      "layout": "IPY_MODEL_5903393ac0c34045a66054fef6abecd1",
      "placeholder": "​",
      "style": "IPY_MODEL_6085f2cb12a74e15a2d22f313ed444b6",
      "value": "Downloading: 100%"
     }
    },
    "53bca193061d4c8c9347bf4a918fbda4": {
     "model_module": "@jupyter-widgets/base",
     "model_module_version": "1.2.0",
     "model_name": "LayoutModel",
     "state": {
      "_model_module": "@jupyter-widgets/base",
      "_model_module_version": "1.2.0",
      "_model_name": "LayoutModel",
      "_view_count": null,
      "_view_module": "@jupyter-widgets/base",
      "_view_module_version": "1.2.0",
      "_view_name": "LayoutView",
      "align_content": null,
      "align_items": null,
      "align_self": null,
      "border": null,
      "bottom": null,
      "display": null,
      "flex": null,
      "flex_flow": null,
      "grid_area": null,
      "grid_auto_columns": null,
      "grid_auto_flow": null,
      "grid_auto_rows": null,
      "grid_column": null,
      "grid_gap": null,
      "grid_row": null,
      "grid_template_areas": null,
      "grid_template_columns": null,
      "grid_template_rows": null,
      "height": null,
      "justify_content": null,
      "justify_items": null,
      "left": null,
      "margin": null,
      "max_height": null,
      "max_width": null,
      "min_height": null,
      "min_width": null,
      "object_fit": null,
      "object_position": null,
      "order": null,
      "overflow": null,
      "overflow_x": null,
      "overflow_y": null,
      "padding": null,
      "right": null,
      "top": null,
      "visibility": null,
      "width": null
     }
    },
    "53ca78f81d5c4dd58be095b267a0dbac": {
     "model_module": "@jupyter-widgets/controls",
     "model_module_version": "1.5.0",
     "model_name": "DescriptionStyleModel",
     "state": {
      "_model_module": "@jupyter-widgets/controls",
      "_model_module_version": "1.5.0",
      "_model_name": "DescriptionStyleModel",
      "_view_count": null,
      "_view_module": "@jupyter-widgets/base",
      "_view_module_version": "1.2.0",
      "_view_name": "StyleView",
      "description_width": ""
     }
    },
    "5506ec4974d544d28c0fbe54950873a5": {
     "model_module": "@jupyter-widgets/base",
     "model_module_version": "1.2.0",
     "model_name": "LayoutModel",
     "state": {
      "_model_module": "@jupyter-widgets/base",
      "_model_module_version": "1.2.0",
      "_model_name": "LayoutModel",
      "_view_count": null,
      "_view_module": "@jupyter-widgets/base",
      "_view_module_version": "1.2.0",
      "_view_name": "LayoutView",
      "align_content": null,
      "align_items": null,
      "align_self": null,
      "border": null,
      "bottom": null,
      "display": null,
      "flex": null,
      "flex_flow": null,
      "grid_area": null,
      "grid_auto_columns": null,
      "grid_auto_flow": null,
      "grid_auto_rows": null,
      "grid_column": null,
      "grid_gap": null,
      "grid_row": null,
      "grid_template_areas": null,
      "grid_template_columns": null,
      "grid_template_rows": null,
      "height": null,
      "justify_content": null,
      "justify_items": null,
      "left": null,
      "margin": null,
      "max_height": null,
      "max_width": null,
      "min_height": null,
      "min_width": null,
      "object_fit": null,
      "object_position": null,
      "order": null,
      "overflow": null,
      "overflow_x": null,
      "overflow_y": null,
      "padding": null,
      "right": null,
      "top": null,
      "visibility": null,
      "width": null
     }
    },
    "5903393ac0c34045a66054fef6abecd1": {
     "model_module": "@jupyter-widgets/base",
     "model_module_version": "1.2.0",
     "model_name": "LayoutModel",
     "state": {
      "_model_module": "@jupyter-widgets/base",
      "_model_module_version": "1.2.0",
      "_model_name": "LayoutModel",
      "_view_count": null,
      "_view_module": "@jupyter-widgets/base",
      "_view_module_version": "1.2.0",
      "_view_name": "LayoutView",
      "align_content": null,
      "align_items": null,
      "align_self": null,
      "border": null,
      "bottom": null,
      "display": null,
      "flex": null,
      "flex_flow": null,
      "grid_area": null,
      "grid_auto_columns": null,
      "grid_auto_flow": null,
      "grid_auto_rows": null,
      "grid_column": null,
      "grid_gap": null,
      "grid_row": null,
      "grid_template_areas": null,
      "grid_template_columns": null,
      "grid_template_rows": null,
      "height": null,
      "justify_content": null,
      "justify_items": null,
      "left": null,
      "margin": null,
      "max_height": null,
      "max_width": null,
      "min_height": null,
      "min_width": null,
      "object_fit": null,
      "object_position": null,
      "order": null,
      "overflow": null,
      "overflow_x": null,
      "overflow_y": null,
      "padding": null,
      "right": null,
      "top": null,
      "visibility": null,
      "width": null
     }
    },
    "59f181713e5a44348981d52e05e2440d": {
     "model_module": "@jupyter-widgets/controls",
     "model_module_version": "1.5.0",
     "model_name": "HTMLModel",
     "state": {
      "_dom_classes": [],
      "_model_module": "@jupyter-widgets/controls",
      "_model_module_version": "1.5.0",
      "_model_name": "HTMLModel",
      "_view_count": null,
      "_view_module": "@jupyter-widgets/controls",
      "_view_module_version": "1.5.0",
      "_view_name": "HTMLView",
      "description": "",
      "description_tooltip": null,
      "layout": "IPY_MODEL_03954632f43e41f2be3791f61f9613da",
      "placeholder": "​",
      "style": "IPY_MODEL_0317fe8b39c3451cb29253e151ee8d61",
      "value": " 465M/465M [00:12&lt;00:00, 48.0MB/s]"
     }
    },
    "5b9f05c1a709436a8b215a9afbbfaa07": {
     "model_module": "@jupyter-widgets/controls",
     "model_module_version": "1.5.0",
     "model_name": "HTMLModel",
     "state": {
      "_dom_classes": [],
      "_model_module": "@jupyter-widgets/controls",
      "_model_module_version": "1.5.0",
      "_model_name": "HTMLModel",
      "_view_count": null,
      "_view_module": "@jupyter-widgets/controls",
      "_view_module_version": "1.5.0",
      "_view_name": "HTMLView",
      "description": "",
      "description_tooltip": null,
      "layout": "IPY_MODEL_cf50f50172224b89a35123291030c0ad",
      "placeholder": "​",
      "style": "IPY_MODEL_dba29623e61b4edeb1c9eb3e66ac5181",
      "value": " 1.32M/1.32M [00:01&lt;00:00, 1.04MB/s]"
     }
    },
    "6085f2cb12a74e15a2d22f313ed444b6": {
     "model_module": "@jupyter-widgets/controls",
     "model_module_version": "1.5.0",
     "model_name": "DescriptionStyleModel",
     "state": {
      "_model_module": "@jupyter-widgets/controls",
      "_model_module_version": "1.5.0",
      "_model_name": "DescriptionStyleModel",
      "_view_count": null,
      "_view_module": "@jupyter-widgets/base",
      "_view_module_version": "1.2.0",
      "_view_name": "StyleView",
      "description_width": ""
     }
    },
    "66272d17a4a445c5ba0cb2fd5b7f8a36": {
     "model_module": "@jupyter-widgets/base",
     "model_module_version": "1.2.0",
     "model_name": "LayoutModel",
     "state": {
      "_model_module": "@jupyter-widgets/base",
      "_model_module_version": "1.2.0",
      "_model_name": "LayoutModel",
      "_view_count": null,
      "_view_module": "@jupyter-widgets/base",
      "_view_module_version": "1.2.0",
      "_view_name": "LayoutView",
      "align_content": null,
      "align_items": null,
      "align_self": null,
      "border": null,
      "bottom": null,
      "display": null,
      "flex": null,
      "flex_flow": null,
      "grid_area": null,
      "grid_auto_columns": null,
      "grid_auto_flow": null,
      "grid_auto_rows": null,
      "grid_column": null,
      "grid_gap": null,
      "grid_row": null,
      "grid_template_areas": null,
      "grid_template_columns": null,
      "grid_template_rows": null,
      "height": null,
      "justify_content": null,
      "justify_items": null,
      "left": null,
      "margin": null,
      "max_height": null,
      "max_width": null,
      "min_height": null,
      "min_width": null,
      "object_fit": null,
      "object_position": null,
      "order": null,
      "overflow": null,
      "overflow_x": null,
      "overflow_y": null,
      "padding": null,
      "right": null,
      "top": null,
      "visibility": null,
      "width": null
     }
    },
    "75cf5504a0d342d9b3f44ce1990c4de3": {
     "model_module": "@jupyter-widgets/base",
     "model_module_version": "1.2.0",
     "model_name": "LayoutModel",
     "state": {
      "_model_module": "@jupyter-widgets/base",
      "_model_module_version": "1.2.0",
      "_model_name": "LayoutModel",
      "_view_count": null,
      "_view_module": "@jupyter-widgets/base",
      "_view_module_version": "1.2.0",
      "_view_name": "LayoutView",
      "align_content": null,
      "align_items": null,
      "align_self": null,
      "border": null,
      "bottom": null,
      "display": null,
      "flex": null,
      "flex_flow": null,
      "grid_area": null,
      "grid_auto_columns": null,
      "grid_auto_flow": null,
      "grid_auto_rows": null,
      "grid_column": null,
      "grid_gap": null,
      "grid_row": null,
      "grid_template_areas": null,
      "grid_template_columns": null,
      "grid_template_rows": null,
      "height": null,
      "justify_content": null,
      "justify_items": null,
      "left": null,
      "margin": null,
      "max_height": null,
      "max_width": null,
      "min_height": null,
      "min_width": null,
      "object_fit": null,
      "object_position": null,
      "order": null,
      "overflow": null,
      "overflow_x": null,
      "overflow_y": null,
      "padding": null,
      "right": null,
      "top": null,
      "visibility": null,
      "width": null
     }
    },
    "80d537ed2bc74395bccb80405f2ce436": {
     "model_module": "@jupyter-widgets/base",
     "model_module_version": "1.2.0",
     "model_name": "LayoutModel",
     "state": {
      "_model_module": "@jupyter-widgets/base",
      "_model_module_version": "1.2.0",
      "_model_name": "LayoutModel",
      "_view_count": null,
      "_view_module": "@jupyter-widgets/base",
      "_view_module_version": "1.2.0",
      "_view_name": "LayoutView",
      "align_content": null,
      "align_items": null,
      "align_self": null,
      "border": null,
      "bottom": null,
      "display": null,
      "flex": null,
      "flex_flow": null,
      "grid_area": null,
      "grid_auto_columns": null,
      "grid_auto_flow": null,
      "grid_auto_rows": null,
      "grid_column": null,
      "grid_gap": null,
      "grid_row": null,
      "grid_template_areas": null,
      "grid_template_columns": null,
      "grid_template_rows": null,
      "height": null,
      "justify_content": null,
      "justify_items": null,
      "left": null,
      "margin": null,
      "max_height": null,
      "max_width": null,
      "min_height": null,
      "min_width": null,
      "object_fit": null,
      "object_position": null,
      "order": null,
      "overflow": null,
      "overflow_x": null,
      "overflow_y": null,
      "padding": null,
      "right": null,
      "top": null,
      "visibility": null,
      "width": null
     }
    },
    "814857ce9cf743aa90671335ebeecde9": {
     "model_module": "@jupyter-widgets/base",
     "model_module_version": "1.2.0",
     "model_name": "LayoutModel",
     "state": {
      "_model_module": "@jupyter-widgets/base",
      "_model_module_version": "1.2.0",
      "_model_name": "LayoutModel",
      "_view_count": null,
      "_view_module": "@jupyter-widgets/base",
      "_view_module_version": "1.2.0",
      "_view_name": "LayoutView",
      "align_content": null,
      "align_items": null,
      "align_self": null,
      "border": null,
      "bottom": null,
      "display": null,
      "flex": null,
      "flex_flow": null,
      "grid_area": null,
      "grid_auto_columns": null,
      "grid_auto_flow": null,
      "grid_auto_rows": null,
      "grid_column": null,
      "grid_gap": null,
      "grid_row": null,
      "grid_template_areas": null,
      "grid_template_columns": null,
      "grid_template_rows": null,
      "height": null,
      "justify_content": null,
      "justify_items": null,
      "left": null,
      "margin": null,
      "max_height": null,
      "max_width": null,
      "min_height": null,
      "min_width": null,
      "object_fit": null,
      "object_position": null,
      "order": null,
      "overflow": null,
      "overflow_x": null,
      "overflow_y": null,
      "padding": null,
      "right": null,
      "top": null,
      "visibility": null,
      "width": null
     }
    },
    "8b3fd877ff8f42488eedabee60a421e7": {
     "model_module": "@jupyter-widgets/controls",
     "model_module_version": "1.5.0",
     "model_name": "ProgressStyleModel",
     "state": {
      "_model_module": "@jupyter-widgets/controls",
      "_model_module_version": "1.5.0",
      "_model_name": "ProgressStyleModel",
      "_view_count": null,
      "_view_module": "@jupyter-widgets/base",
      "_view_module_version": "1.2.0",
      "_view_name": "StyleView",
      "bar_color": null,
      "description_width": ""
     }
    },
    "8dac6d7e8b5048d6a8d02f2eef25f909": {
     "model_module": "@jupyter-widgets/controls",
     "model_module_version": "1.5.0",
     "model_name": "DescriptionStyleModel",
     "state": {
      "_model_module": "@jupyter-widgets/controls",
      "_model_module_version": "1.5.0",
      "_model_name": "DescriptionStyleModel",
      "_view_count": null,
      "_view_module": "@jupyter-widgets/base",
      "_view_module_version": "1.2.0",
      "_view_name": "StyleView",
      "description_width": ""
     }
    },
    "8df9fe9265554eb2bf76f052669b2003": {
     "model_module": "@jupyter-widgets/controls",
     "model_module_version": "1.5.0",
     "model_name": "DescriptionStyleModel",
     "state": {
      "_model_module": "@jupyter-widgets/controls",
      "_model_module_version": "1.5.0",
      "_model_name": "DescriptionStyleModel",
      "_view_count": null,
      "_view_module": "@jupyter-widgets/base",
      "_view_module_version": "1.2.0",
      "_view_name": "StyleView",
      "description_width": ""
     }
    },
    "99b597ef604e4a29b0cde9f76d0eb337": {
     "model_module": "@jupyter-widgets/controls",
     "model_module_version": "1.5.0",
     "model_name": "ProgressStyleModel",
     "state": {
      "_model_module": "@jupyter-widgets/controls",
      "_model_module_version": "1.5.0",
      "_model_name": "ProgressStyleModel",
      "_view_count": null,
      "_view_module": "@jupyter-widgets/base",
      "_view_module_version": "1.2.0",
      "_view_name": "StyleView",
      "bar_color": null,
      "description_width": ""
     }
    },
    "a26b452422334246af086319bc2db26a": {
     "model_module": "@jupyter-widgets/controls",
     "model_module_version": "1.5.0",
     "model_name": "ProgressStyleModel",
     "state": {
      "_model_module": "@jupyter-widgets/controls",
      "_model_module_version": "1.5.0",
      "_model_name": "ProgressStyleModel",
      "_view_count": null,
      "_view_module": "@jupyter-widgets/base",
      "_view_module_version": "1.2.0",
      "_view_name": "StyleView",
      "bar_color": null,
      "description_width": ""
     }
    },
    "a7729b5192cc4d909e2481bb1d961883": {
     "model_module": "@jupyter-widgets/controls",
     "model_module_version": "1.5.0",
     "model_name": "HTMLModel",
     "state": {
      "_dom_classes": [],
      "_model_module": "@jupyter-widgets/controls",
      "_model_module_version": "1.5.0",
      "_model_name": "HTMLModel",
      "_view_count": null,
      "_view_module": "@jupyter-widgets/controls",
      "_view_module_version": "1.5.0",
      "_view_name": "HTMLView",
      "description": "",
      "description_tooltip": null,
      "layout": "IPY_MODEL_66272d17a4a445c5ba0cb2fd5b7f8a36",
      "placeholder": "​",
      "style": "IPY_MODEL_259b5455df5a4f4ea917df7956b4d04c",
      "value": " 1.17k/1.17k [00:00&lt;00:00, 25.1kB/s]"
     }
    },
    "abde6149b789472f89fb301d02929d85": {
     "model_module": "@jupyter-widgets/controls",
     "model_module_version": "1.5.0",
     "model_name": "ProgressStyleModel",
     "state": {
      "_model_module": "@jupyter-widgets/controls",
      "_model_module_version": "1.5.0",
      "_model_name": "ProgressStyleModel",
      "_view_count": null,
      "_view_module": "@jupyter-widgets/base",
      "_view_module_version": "1.2.0",
      "_view_name": "StyleView",
      "bar_color": null,
      "description_width": ""
     }
    },
    "ac2a8c23ed864097a66f408ba1a189c3": {
     "model_module": "@jupyter-widgets/controls",
     "model_module_version": "1.5.0",
     "model_name": "HTMLModel",
     "state": {
      "_dom_classes": [],
      "_model_module": "@jupyter-widgets/controls",
      "_model_module_version": "1.5.0",
      "_model_name": "HTMLModel",
      "_view_count": null,
      "_view_module": "@jupyter-widgets/controls",
      "_view_module_version": "1.5.0",
      "_view_name": "HTMLView",
      "description": "",
      "description_tooltip": null,
      "layout": "IPY_MODEL_adc39d1a948d4b8199c5ba416bcd2a9e",
      "placeholder": "​",
      "style": "IPY_MODEL_eee3a3acbd3b4c67b558d4be0d30a6b7",
      "value": " 850M/850M [00:15&lt;00:00, 58.5MB/s]"
     }
    },
    "adc39d1a948d4b8199c5ba416bcd2a9e": {
     "model_module": "@jupyter-widgets/base",
     "model_module_version": "1.2.0",
     "model_name": "LayoutModel",
     "state": {
      "_model_module": "@jupyter-widgets/base",
      "_model_module_version": "1.2.0",
      "_model_name": "LayoutModel",
      "_view_count": null,
      "_view_module": "@jupyter-widgets/base",
      "_view_module_version": "1.2.0",
      "_view_name": "LayoutView",
      "align_content": null,
      "align_items": null,
      "align_self": null,
      "border": null,
      "bottom": null,
      "display": null,
      "flex": null,
      "flex_flow": null,
      "grid_area": null,
      "grid_auto_columns": null,
      "grid_auto_flow": null,
      "grid_auto_rows": null,
      "grid_column": null,
      "grid_gap": null,
      "grid_row": null,
      "grid_template_areas": null,
      "grid_template_columns": null,
      "grid_template_rows": null,
      "height": null,
      "justify_content": null,
      "justify_items": null,
      "left": null,
      "margin": null,
      "max_height": null,
      "max_width": null,
      "min_height": null,
      "min_width": null,
      "object_fit": null,
      "object_position": null,
      "order": null,
      "overflow": null,
      "overflow_x": null,
      "overflow_y": null,
      "padding": null,
      "right": null,
      "top": null,
      "visibility": null,
      "width": null
     }
    },
    "af236dc91674432bb7acdc1b1948a2fb": {
     "model_module": "@jupyter-widgets/controls",
     "model_module_version": "1.5.0",
     "model_name": "FloatProgressModel",
     "state": {
      "_dom_classes": [],
      "_model_module": "@jupyter-widgets/controls",
      "_model_module_version": "1.5.0",
      "_model_name": "FloatProgressModel",
      "_view_count": null,
      "_view_module": "@jupyter-widgets/controls",
      "_view_module_version": "1.5.0",
      "_view_name": "ProgressView",
      "bar_style": "success",
      "description": "",
      "description_tooltip": null,
      "layout": "IPY_MODEL_75cf5504a0d342d9b3f44ce1990c4de3",
      "max": 891691430,
      "min": 0,
      "orientation": "horizontal",
      "style": "IPY_MODEL_abde6149b789472f89fb301d02929d85",
      "value": 891691430
     }
    },
    "be1711996f064662a300962a29aec0f2": {
     "model_module": "@jupyter-widgets/controls",
     "model_module_version": "1.5.0",
     "model_name": "ProgressStyleModel",
     "state": {
      "_model_module": "@jupyter-widgets/controls",
      "_model_module_version": "1.5.0",
      "_model_name": "ProgressStyleModel",
      "_view_count": null,
      "_view_module": "@jupyter-widgets/base",
      "_view_module_version": "1.2.0",
      "_view_name": "StyleView",
      "bar_color": null,
      "description_width": ""
     }
    },
    "be5d6d7763c04d8bbc77f79926afb623": {
     "model_module": "@jupyter-widgets/base",
     "model_module_version": "1.2.0",
     "model_name": "LayoutModel",
     "state": {
      "_model_module": "@jupyter-widgets/base",
      "_model_module_version": "1.2.0",
      "_model_name": "LayoutModel",
      "_view_count": null,
      "_view_module": "@jupyter-widgets/base",
      "_view_module_version": "1.2.0",
      "_view_name": "LayoutView",
      "align_content": null,
      "align_items": null,
      "align_self": null,
      "border": null,
      "bottom": null,
      "display": null,
      "flex": null,
      "flex_flow": null,
      "grid_area": null,
      "grid_auto_columns": null,
      "grid_auto_flow": null,
      "grid_auto_rows": null,
      "grid_column": null,
      "grid_gap": null,
      "grid_row": null,
      "grid_template_areas": null,
      "grid_template_columns": null,
      "grid_template_rows": null,
      "height": null,
      "justify_content": null,
      "justify_items": null,
      "left": null,
      "margin": null,
      "max_height": null,
      "max_width": null,
      "min_height": null,
      "min_width": null,
      "object_fit": null,
      "object_position": null,
      "order": null,
      "overflow": null,
      "overflow_x": null,
      "overflow_y": null,
      "padding": null,
      "right": null,
      "top": null,
      "visibility": null,
      "width": null
     }
    },
    "c8a4c5b513994cca9d4d67b3566711a7": {
     "model_module": "@jupyter-widgets/controls",
     "model_module_version": "1.5.0",
     "model_name": "HBoxModel",
     "state": {
      "_dom_classes": [],
      "_model_module": "@jupyter-widgets/controls",
      "_model_module_version": "1.5.0",
      "_model_name": "HBoxModel",
      "_view_count": null,
      "_view_module": "@jupyter-widgets/controls",
      "_view_module_version": "1.5.0",
      "_view_name": "HBoxView",
      "box_style": "",
      "children": [
       "IPY_MODEL_48e54598de614dedb1f98558dd869beb",
       "IPY_MODEL_445468a87c4b4bac8541acf841df4bdb",
       "IPY_MODEL_5b9f05c1a709436a8b215a9afbbfaa07"
      ],
      "layout": "IPY_MODEL_814857ce9cf743aa90671335ebeecde9"
     }
    },
    "cf50f50172224b89a35123291030c0ad": {
     "model_module": "@jupyter-widgets/base",
     "model_module_version": "1.2.0",
     "model_name": "LayoutModel",
     "state": {
      "_model_module": "@jupyter-widgets/base",
      "_model_module_version": "1.2.0",
      "_model_name": "LayoutModel",
      "_view_count": null,
      "_view_module": "@jupyter-widgets/base",
      "_view_module_version": "1.2.0",
      "_view_name": "LayoutView",
      "align_content": null,
      "align_items": null,
      "align_self": null,
      "border": null,
      "bottom": null,
      "display": null,
      "flex": null,
      "flex_flow": null,
      "grid_area": null,
      "grid_auto_columns": null,
      "grid_auto_flow": null,
      "grid_auto_rows": null,
      "grid_column": null,
      "grid_gap": null,
      "grid_row": null,
      "grid_template_areas": null,
      "grid_template_columns": null,
      "grid_template_rows": null,
      "height": null,
      "justify_content": null,
      "justify_items": null,
      "left": null,
      "margin": null,
      "max_height": null,
      "max_width": null,
      "min_height": null,
      "min_width": null,
      "object_fit": null,
      "object_position": null,
      "order": null,
      "overflow": null,
      "overflow_x": null,
      "overflow_y": null,
      "padding": null,
      "right": null,
      "top": null,
      "visibility": null,
      "width": null
     }
    },
    "d425b86ff0ce41ad86f51807fc0fc9dd": {
     "model_module": "@jupyter-widgets/controls",
     "model_module_version": "1.5.0",
     "model_name": "FloatProgressModel",
     "state": {
      "_dom_classes": [],
      "_model_module": "@jupyter-widgets/controls",
      "_model_module_version": "1.5.0",
      "_model_name": "FloatProgressModel",
      "_view_count": null,
      "_view_module": "@jupyter-widgets/controls",
      "_view_module_version": "1.5.0",
      "_view_name": "ProgressView",
      "bar_style": "success",
      "description": "",
      "description_tooltip": null,
      "layout": "IPY_MODEL_1ca9f9ecb11b43b191f2d03a9aac949f",
      "max": 487203636,
      "min": 0,
      "orientation": "horizontal",
      "style": "IPY_MODEL_99b597ef604e4a29b0cde9f76d0eb337",
      "value": 487203636
     }
    },
    "dba29623e61b4edeb1c9eb3e66ac5181": {
     "model_module": "@jupyter-widgets/controls",
     "model_module_version": "1.5.0",
     "model_name": "DescriptionStyleModel",
     "state": {
      "_model_module": "@jupyter-widgets/controls",
      "_model_module_version": "1.5.0",
      "_model_name": "DescriptionStyleModel",
      "_view_count": null,
      "_view_module": "@jupyter-widgets/base",
      "_view_module_version": "1.2.0",
      "_view_name": "StyleView",
      "description_width": ""
     }
    },
    "dd4a672f6c174a4eb26aee9dbedb4a84": {
     "model_module": "@jupyter-widgets/base",
     "model_module_version": "1.2.0",
     "model_name": "LayoutModel",
     "state": {
      "_model_module": "@jupyter-widgets/base",
      "_model_module_version": "1.2.0",
      "_model_name": "LayoutModel",
      "_view_count": null,
      "_view_module": "@jupyter-widgets/base",
      "_view_module_version": "1.2.0",
      "_view_name": "LayoutView",
      "align_content": null,
      "align_items": null,
      "align_self": null,
      "border": null,
      "bottom": null,
      "display": null,
      "flex": null,
      "flex_flow": null,
      "grid_area": null,
      "grid_auto_columns": null,
      "grid_auto_flow": null,
      "grid_auto_rows": null,
      "grid_column": null,
      "grid_gap": null,
      "grid_row": null,
      "grid_template_areas": null,
      "grid_template_columns": null,
      "grid_template_rows": null,
      "height": null,
      "justify_content": null,
      "justify_items": null,
      "left": null,
      "margin": null,
      "max_height": null,
      "max_width": null,
      "min_height": null,
      "min_width": null,
      "object_fit": null,
      "object_position": null,
      "order": null,
      "overflow": null,
      "overflow_x": null,
      "overflow_y": null,
      "padding": null,
      "right": null,
      "top": null,
      "visibility": null,
      "width": null
     }
    },
    "e369077b6127433383b80992dc2bd0e0": {
     "model_module": "@jupyter-widgets/base",
     "model_module_version": "1.2.0",
     "model_name": "LayoutModel",
     "state": {
      "_model_module": "@jupyter-widgets/base",
      "_model_module_version": "1.2.0",
      "_model_name": "LayoutModel",
      "_view_count": null,
      "_view_module": "@jupyter-widgets/base",
      "_view_module_version": "1.2.0",
      "_view_name": "LayoutView",
      "align_content": null,
      "align_items": null,
      "align_self": null,
      "border": null,
      "bottom": null,
      "display": null,
      "flex": null,
      "flex_flow": null,
      "grid_area": null,
      "grid_auto_columns": null,
      "grid_auto_flow": null,
      "grid_auto_rows": null,
      "grid_column": null,
      "grid_gap": null,
      "grid_row": null,
      "grid_template_areas": null,
      "grid_template_columns": null,
      "grid_template_rows": null,
      "height": null,
      "justify_content": null,
      "justify_items": null,
      "left": null,
      "margin": null,
      "max_height": null,
      "max_width": null,
      "min_height": null,
      "min_width": null,
      "object_fit": null,
      "object_position": null,
      "order": null,
      "overflow": null,
      "overflow_x": null,
      "overflow_y": null,
      "padding": null,
      "right": null,
      "top": null,
      "visibility": null,
      "width": null
     }
    },
    "eee1c2a4e9b4488488ef888472fbf7de": {
     "model_module": "@jupyter-widgets/controls",
     "model_module_version": "1.5.0",
     "model_name": "HTMLModel",
     "state": {
      "_dom_classes": [],
      "_model_module": "@jupyter-widgets/controls",
      "_model_module_version": "1.5.0",
      "_model_name": "HTMLModel",
      "_view_count": null,
      "_view_module": "@jupyter-widgets/controls",
      "_view_module_version": "1.5.0",
      "_view_name": "HTMLView",
      "description": "",
      "description_tooltip": null,
      "layout": "IPY_MODEL_53bca193061d4c8c9347bf4a918fbda4",
      "placeholder": "​",
      "style": "IPY_MODEL_53ca78f81d5c4dd58be095b267a0dbac",
      "value": "Downloading: 100%"
     }
    },
    "eee3a3acbd3b4c67b558d4be0d30a6b7": {
     "model_module": "@jupyter-widgets/controls",
     "model_module_version": "1.5.0",
     "model_name": "DescriptionStyleModel",
     "state": {
      "_model_module": "@jupyter-widgets/controls",
      "_model_module_version": "1.5.0",
      "_model_name": "DescriptionStyleModel",
      "_view_count": null,
      "_view_module": "@jupyter-widgets/base",
      "_view_module_version": "1.2.0",
      "_view_name": "StyleView",
      "description_width": ""
     }
    },
    "f6575bd13d1447c58fd163747ff5ef2f": {
     "model_module": "@jupyter-widgets/base",
     "model_module_version": "1.2.0",
     "model_name": "LayoutModel",
     "state": {
      "_model_module": "@jupyter-widgets/base",
      "_model_module_version": "1.2.0",
      "_model_name": "LayoutModel",
      "_view_count": null,
      "_view_module": "@jupyter-widgets/base",
      "_view_module_version": "1.2.0",
      "_view_name": "LayoutView",
      "align_content": null,
      "align_items": null,
      "align_self": null,
      "border": null,
      "bottom": null,
      "display": null,
      "flex": null,
      "flex_flow": null,
      "grid_area": null,
      "grid_auto_columns": null,
      "grid_auto_flow": null,
      "grid_auto_rows": null,
      "grid_column": null,
      "grid_gap": null,
      "grid_row": null,
      "grid_template_areas": null,
      "grid_template_columns": null,
      "grid_template_rows": null,
      "height": null,
      "justify_content": null,
      "justify_items": null,
      "left": null,
      "margin": null,
      "max_height": null,
      "max_width": null,
      "min_height": null,
      "min_width": null,
      "object_fit": null,
      "object_position": null,
      "order": null,
      "overflow": null,
      "overflow_x": null,
      "overflow_y": null,
      "padding": null,
      "right": null,
      "top": null,
      "visibility": null,
      "width": null
     }
    },
    "fbcebd3ccbc34f38984f5d7832b60878": {
     "model_module": "@jupyter-widgets/base",
     "model_module_version": "1.2.0",
     "model_name": "LayoutModel",
     "state": {
      "_model_module": "@jupyter-widgets/base",
      "_model_module_version": "1.2.0",
      "_model_name": "LayoutModel",
      "_view_count": null,
      "_view_module": "@jupyter-widgets/base",
      "_view_module_version": "1.2.0",
      "_view_name": "LayoutView",
      "align_content": null,
      "align_items": null,
      "align_self": null,
      "border": null,
      "bottom": null,
      "display": null,
      "flex": null,
      "flex_flow": null,
      "grid_area": null,
      "grid_auto_columns": null,
      "grid_auto_flow": null,
      "grid_auto_rows": null,
      "grid_column": null,
      "grid_gap": null,
      "grid_row": null,
      "grid_template_areas": null,
      "grid_template_columns": null,
      "grid_template_rows": null,
      "height": null,
      "justify_content": null,
      "justify_items": null,
      "left": null,
      "margin": null,
      "max_height": null,
      "max_width": null,
      "min_height": null,
      "min_width": null,
      "object_fit": null,
      "object_position": null,
      "order": null,
      "overflow": null,
      "overflow_x": null,
      "overflow_y": null,
      "padding": null,
      "right": null,
      "top": null,
      "visibility": null,
      "width": null
     }
    }
   }
  }
 },
 "nbformat": 4,
 "nbformat_minor": 1
}
